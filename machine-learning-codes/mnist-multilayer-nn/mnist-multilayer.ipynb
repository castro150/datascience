{
 "cells": [
  {
   "cell_type": "markdown",
   "metadata": {},
   "source": [
    "IMPORTANTE: Arquivo data_tp1 no mesmo diretório."
   ]
  },
  {
   "cell_type": "code",
   "execution_count": 13,
   "metadata": {
    "collapsed": true
   },
   "outputs": [],
   "source": [
    "import warnings\n",
    "warnings.filterwarnings('ignore')"
   ]
  },
  {
   "cell_type": "code",
   "execution_count": 14,
   "metadata": {},
   "outputs": [],
   "source": [
    "from __future__ import print_function\n",
    "import numpy as np\n",
    "import pandas as pd\n",
    "import matplotlib.pyplot as plt\n",
    "from keras.models import Sequential \n",
    "from keras.layers.core import Dense\n",
    "from keras.optimizers import SGD\n",
    "from keras.utils import np_utils\n",
    "\n",
    "# Iniciando o gerador de números aleatório do Numpy.\n",
    "np.random.seed(10)\n",
    "TRAINING_EPOCHS = 50\n",
    "N_INPUT = 784\n",
    "N_CLASSES = 10"
   ]
  },
  {
   "cell_type": "code",
   "execution_count": 15,
   "metadata": {
    "collapsed": true
   },
   "outputs": [],
   "source": [
    "# Lendo os dados do arquivo 'data_tp1' disponibilizados pelo professor.\n",
    "# A função np_utils.to_categorical transforma o inteiro em um vetor de\n",
    "# 0s com o número 1 na posição do inteiro.\n",
    "read_data = pd.read_csv('data_tp1', header=None, dtype=float)\n",
    "images = read_data.iloc[:, 1:].as_matrix()\n",
    "labels = np_utils.to_categorical(read_data.iloc[:, 0].as_matrix(), N_CLASSES)"
   ]
  },
  {
   "cell_type": "code",
   "execution_count": 16,
   "metadata": {
    "collapsed": true
   },
   "outputs": [],
   "source": [
    "# Função que cria o modelo e treina, retornando os valores de acurácia e de perda,\n",
    "# tanto empíricos quanto de validação.\n",
    "def model(n_hidden, batch_size, learning_rate):\n",
    "    # Criação do modelo com camadas densamente conectadas.\n",
    "    model = Sequential()\n",
    "    \n",
    "    # Primeira camada com função sigmoidal de ativação. Por ser a primeira camada,\n",
    "    # a documentação do Keras intrui usar o parâmetro input_shape com o tamanho\n",
    "    # da entrada, que nesse caso é 784. Esta camada tem N_INPUT unidades.\n",
    "    model.add(Dense(N_INPUT, input_shape=(N_INPUT,), activation='sigmoid'))\n",
    "    # Camada oculta com n_hidden unidades e função sigmoidal de ativação.\n",
    "    model.add(Dense(n_hidden, activation='sigmoid'))\n",
    "    # Camada oculta com N_CLASSES (10) unidades e função softmax de ativação,\n",
    "    # que retorna a saída com as probabilidades das classes.\n",
    "    model.add(Dense(N_CLASSES, activation='softmax'))\n",
    "\n",
    "    # Para uma classificação como a do MNIST, onde a saída é um vetor de probabilidades de tamanho 10,\n",
    "    # a documentação do Keras instrui usar 'categorical_crossentropy' para se utilizar a função de cross-entropy\n",
    "    # como função de perda.\n",
    "    model.compile(loss='categorical_crossentropy', optimizer=SGD(learning_rate), metrics=['accuracy'])\n",
    "    logger = model.fit(images, labels,\n",
    "                       batch_size=batch_size,  # Tamanho do batch\n",
    "                       epochs=TRAINING_EPOCHS, # Quantidade de épocas\n",
    "                       validation_split=0.2,   # Cross Validation com K = 5\n",
    "                       verbose=1)              # Faz o Keras logar o progresso do treino\n",
    "    \n",
    "    return pd.DataFrame(logger.history)"
   ]
  },
  {
   "cell_type": "code",
   "execution_count": 17,
   "metadata": {
    "collapsed": true
   },
   "outputs": [],
   "source": [
    "def plot_history(history):\n",
    "    plt.figure(figsize=(10, 6)) # Tamanho da figura do gráfico\n",
    "    axes = plt.gca()\n",
    "    axes.set_xlim([0, TRAINING_EPOCHS]) # Limites do eixo X\n",
    "    axes.set_ylim([0, 1]) # Limites do eixo Y\n",
    "    (1 - history['acc']).plot(label='Inline label')\n",
    "    (1 - history['val_acc']).plot(linestyle='--')\n",
    "    plt.ylabel('Erro Empírico e de Validação')\n",
    "    plt.xlabel('Épocas')"
   ]
  },
  {
   "cell_type": "code",
   "execution_count": 18,
   "metadata": {
    "scrolled": true
   },
   "outputs": [
    {
     "name": "stdout",
     "output_type": "stream",
     "text": [
      "Train on 4000 samples, validate on 1000 samples\n",
      "Epoch 1/50\n",
      "4000/4000 [==============================] - 0s 103us/step - loss: 2.4462 - acc: 0.1095 - val_loss: 9.8476 - val_acc: 0.0920\n",
      "Epoch 2/50\n",
      "4000/4000 [==============================] - 0s 57us/step - loss: 9.8551 - acc: 0.1020 - val_loss: 10.9154 - val_acc: 0.1210\n",
      "Epoch 3/50\n",
      "4000/4000 [==============================] - 0s 56us/step - loss: 11.4803 - acc: 0.1125 - val_loss: 11.2299 - val_acc: 0.1290\n",
      "Epoch 4/50\n",
      "4000/4000 [==============================] - 0s 65us/step - loss: 11.8127 - acc: 0.0978 - val_loss: 14.1405 - val_acc: 0.1050\n",
      "Epoch 5/50\n",
      "4000/4000 [==============================] - 0s 87us/step - loss: 14.2807 - acc: 0.0960 - val_loss: 14.4902 - val_acc: 0.1010\n",
      "Epoch 6/50\n",
      "4000/4000 [==============================] - 0s 57us/step - loss: 14.4620 - acc: 0.1028 - val_loss: 14.4902 - val_acc: 0.1010\n",
      "Epoch 7/50\n",
      "4000/4000 [==============================] - 0s 55us/step - loss: 14.4620 - acc: 0.1028 - val_loss: 14.4902 - val_acc: 0.1010\n",
      "Epoch 8/50\n",
      "4000/4000 [==============================] - 0s 58us/step - loss: 14.4620 - acc: 0.1028 - val_loss: 14.4902 - val_acc: 0.1010\n",
      "Epoch 9/50\n",
      "4000/4000 [==============================] - 0s 55us/step - loss: 14.4620 - acc: 0.1028 - val_loss: 14.4902 - val_acc: 0.1010\n",
      "Epoch 10/50\n",
      "4000/4000 [==============================] - 0s 55us/step - loss: 14.4620 - acc: 0.1028 - val_loss: 14.4902 - val_acc: 0.1010\n",
      "Epoch 11/50\n",
      "4000/4000 [==============================] - 0s 55us/step - loss: 14.4620 - acc: 0.1028 - val_loss: 14.4902 - val_acc: 0.1010\n",
      "Epoch 12/50\n",
      "4000/4000 [==============================] - 0s 56us/step - loss: 14.4620 - acc: 0.1028 - val_loss: 14.4902 - val_acc: 0.1010\n",
      "Epoch 13/50\n",
      "4000/4000 [==============================] - 0s 54us/step - loss: 14.4620 - acc: 0.1028 - val_loss: 14.4902 - val_acc: 0.1010\n",
      "Epoch 14/50\n",
      "4000/4000 [==============================] - 0s 56us/step - loss: 14.4620 - acc: 0.1028 - val_loss: 14.4902 - val_acc: 0.1010\n",
      "Epoch 15/50\n",
      "4000/4000 [==============================] - 0s 54us/step - loss: 14.4620 - acc: 0.1028 - val_loss: 14.4902 - val_acc: 0.1010\n",
      "Epoch 16/50\n",
      "4000/4000 [==============================] - 0s 59us/step - loss: 14.4620 - acc: 0.1028 - val_loss: 14.4902 - val_acc: 0.1010\n",
      "Epoch 17/50\n",
      "4000/4000 [==============================] - 0s 61us/step - loss: 14.4620 - acc: 0.1028 - val_loss: 14.4902 - val_acc: 0.1010\n",
      "Epoch 18/50\n",
      "4000/4000 [==============================] - 0s 56us/step - loss: 14.4620 - acc: 0.1028 - val_loss: 14.4902 - val_acc: 0.1010\n",
      "Epoch 19/50\n",
      "4000/4000 [==============================] - 0s 56us/step - loss: 14.4620 - acc: 0.1028 - val_loss: 14.4902 - val_acc: 0.1010\n",
      "Epoch 20/50\n",
      "4000/4000 [==============================] - 0s 86us/step - loss: 14.4620 - acc: 0.1028 - val_loss: 14.4902 - val_acc: 0.1010\n",
      "Epoch 21/50\n",
      "4000/4000 [==============================] - 0s 89us/step - loss: 14.4620 - acc: 0.1028 - val_loss: 14.4902 - val_acc: 0.1010\n",
      "Epoch 22/50\n",
      "4000/4000 [==============================] - 0s 60us/step - loss: 14.4620 - acc: 0.1028 - val_loss: 14.4902 - val_acc: 0.1010\n",
      "Epoch 23/50\n",
      "4000/4000 [==============================] - 0s 59us/step - loss: 14.4620 - acc: 0.1028 - val_loss: 14.4902 - val_acc: 0.1010\n",
      "Epoch 24/50\n",
      "4000/4000 [==============================] - 0s 65us/step - loss: 14.4620 - acc: 0.1028 - val_loss: 14.4902 - val_acc: 0.1010\n",
      "Epoch 25/50\n",
      "4000/4000 [==============================] - 0s 91us/step - loss: 14.4620 - acc: 0.1028 - val_loss: 14.4902 - val_acc: 0.1010\n",
      "Epoch 26/50\n",
      "4000/4000 [==============================] - 0s 77us/step - loss: 14.4620 - acc: 0.1028 - val_loss: 14.4902 - val_acc: 0.1010\n",
      "Epoch 27/50\n",
      "4000/4000 [==============================] - 0s 57us/step - loss: 14.4620 - acc: 0.1028 - val_loss: 14.4902 - val_acc: 0.1010\n",
      "Epoch 28/50\n",
      "4000/4000 [==============================] - 0s 58us/step - loss: 14.4620 - acc: 0.1028 - val_loss: 14.4902 - val_acc: 0.1010\n",
      "Epoch 29/50\n",
      "4000/4000 [==============================] - 0s 56us/step - loss: 14.4620 - acc: 0.1028 - val_loss: 14.4902 - val_acc: 0.1010\n",
      "Epoch 30/50\n",
      "4000/4000 [==============================] - 0s 58us/step - loss: 14.4620 - acc: 0.1028 - val_loss: 14.4902 - val_acc: 0.1010\n",
      "Epoch 31/50\n",
      "4000/4000 [==============================] - 0s 61us/step - loss: 14.4620 - acc: 0.1028 - val_loss: 14.4902 - val_acc: 0.1010\n",
      "Epoch 32/50\n",
      "4000/4000 [==============================] - 0s 95us/step - loss: 14.4620 - acc: 0.1028 - val_loss: 14.4902 - val_acc: 0.1010\n",
      "Epoch 33/50\n",
      "4000/4000 [==============================] - 0s 81us/step - loss: 14.4620 - acc: 0.1028 - val_loss: 14.4902 - val_acc: 0.1010\n",
      "Epoch 34/50\n",
      "4000/4000 [==============================] - 0s 77us/step - loss: 14.4620 - acc: 0.1028 - val_loss: 14.4902 - val_acc: 0.1010\n",
      "Epoch 35/50\n",
      "4000/4000 [==============================] - 0s 74us/step - loss: 14.4620 - acc: 0.1028 - val_loss: 14.4902 - val_acc: 0.1010\n",
      "Epoch 36/50\n",
      "4000/4000 [==============================] - 0s 79us/step - loss: 14.4620 - acc: 0.1028 - val_loss: 14.4902 - val_acc: 0.1010\n",
      "Epoch 37/50\n",
      "4000/4000 [==============================] - 0s 78us/step - loss: 14.4620 - acc: 0.1028 - val_loss: 14.4902 - val_acc: 0.1010\n",
      "Epoch 38/50\n",
      "4000/4000 [==============================] - 0s 73us/step - loss: 14.4620 - acc: 0.1028 - val_loss: 14.4902 - val_acc: 0.1010\n",
      "Epoch 39/50\n",
      "4000/4000 [==============================] - 0s 67us/step - loss: 14.4620 - acc: 0.1028 - val_loss: 14.4902 - val_acc: 0.1010\n",
      "Epoch 40/50\n",
      "4000/4000 [==============================] - 0s 74us/step - loss: 14.4620 - acc: 0.1028 - val_loss: 14.4902 - val_acc: 0.1010\n",
      "Epoch 41/50\n",
      "4000/4000 [==============================] - 0s 77us/step - loss: 14.4620 - acc: 0.1028 - val_loss: 14.4902 - val_acc: 0.1010\n",
      "Epoch 42/50\n",
      "4000/4000 [==============================] - 0s 75us/step - loss: 14.4620 - acc: 0.1028 - val_loss: 14.4902 - val_acc: 0.1010\n",
      "Epoch 43/50\n",
      "4000/4000 [==============================] - 0s 64us/step - loss: 14.4620 - acc: 0.1028 - val_loss: 14.4902 - val_acc: 0.1010\n",
      "Epoch 44/50\n",
      "4000/4000 [==============================] - 0s 72us/step - loss: 14.4620 - acc: 0.1028 - val_loss: 14.4902 - val_acc: 0.1010\n",
      "Epoch 45/50\n",
      "4000/4000 [==============================] - 0s 68us/step - loss: 14.4620 - acc: 0.1028 - val_loss: 14.4902 - val_acc: 0.1010\n",
      "Epoch 46/50\n",
      "4000/4000 [==============================] - 0s 71us/step - loss: 14.4620 - acc: 0.1028 - val_loss: 14.4902 - val_acc: 0.1010\n",
      "Epoch 47/50\n",
      "4000/4000 [==============================] - 0s 63us/step - loss: 14.4620 - acc: 0.1028 - val_loss: 14.4902 - val_acc: 0.1010\n",
      "Epoch 48/50\n",
      "4000/4000 [==============================] - 0s 61us/step - loss: 14.4620 - acc: 0.1028 - val_loss: 14.4902 - val_acc: 0.1010\n",
      "Epoch 49/50\n",
      "4000/4000 [==============================] - 0s 72us/step - loss: 14.4620 - acc: 0.1028 - val_loss: 14.4902 - val_acc: 0.1010\n",
      "Epoch 50/50\n",
      "4000/4000 [==============================] - 0s 70us/step - loss: 14.4620 - acc: 0.1028 - val_loss: 14.4902 - val_acc: 0.1010\n"
     ]
    },
    {
     "data": {
      "image/png": "[encoded data removed]",
      "text/plain": [
       "<matplotlib.figure.Figure at 0x7face179d668>"
      ]
     },
     "metadata": {},
     "output_type": "display_data"
    }
   ],
   "source": [
    "plot_history(model(n_hidden=100, batch_size=5000, learning_rate=10))\n",
    "plt.show()"
   ]
  },
  {
   "cell_type": "code",
   "execution_count": 8,
   "metadata": {
    "scrolled": true
   },
   "outputs": [
    {
     "name": "stdout",
     "output_type": "stream",
     "text": [
      "Train on 4000 samples, validate on 1000 samples\n",
      "Epoch 1/50\n",
      "4000/4000 [==============================] - 0s 86us/step - loss: 2.4582 - acc: 0.0957 - val_loss: 6.9193 - val_acc: 0.2000\n",
      "Epoch 2/50\n",
      "4000/4000 [==============================] - 0s 52us/step - loss: 6.4349 - acc: 0.2142 - val_loss: 10.2986 - val_acc: 0.1010\n",
      "Epoch 3/50\n",
      "4000/4000 [==============================] - 0s 57us/step - loss: 10.4945 - acc: 0.1028 - val_loss: 10.1297 - val_acc: 0.1290\n",
      "Epoch 4/50\n",
      "4000/4000 [==============================] - 0s 57us/step - loss: 10.4442 - acc: 0.0978 - val_loss: 13.5044 - val_acc: 0.0840\n",
      "Epoch 5/50\n",
      "4000/4000 [==============================] - 0s 59us/step - loss: 13.3138 - acc: 0.0945 - val_loss: 13.0867 - val_acc: 0.1120\n",
      "Epoch 6/50\n",
      "4000/4000 [==============================] - 0s 86us/step - loss: 13.0656 - acc: 0.1045 - val_loss: 13.1552 - val_acc: 0.0840\n",
      "Epoch 7/50\n",
      "4000/4000 [==============================] - 0s 62us/step - loss: 13.1208 - acc: 0.0930 - val_loss: 14.2296 - val_acc: 0.1120\n",
      "Epoch 8/50\n",
      "4000/4000 [==============================] - 0s 55us/step - loss: 14.3405 - acc: 0.1045 - val_loss: 14.0753 - val_acc: 0.0840\n",
      "Epoch 9/50\n",
      "4000/4000 [==============================] - 0s 55us/step - loss: 13.9764 - acc: 0.0930 - val_loss: 14.3129 - val_acc: 0.1120\n",
      "Epoch 10/50\n",
      "4000/4000 [==============================] - 0s 54us/step - loss: 14.4338 - acc: 0.1045 - val_loss: 14.3129 - val_acc: 0.1120\n",
      "Epoch 11/50\n",
      "4000/4000 [==============================] - 0s 54us/step - loss: 14.4338 - acc: 0.1045 - val_loss: 14.3129 - val_acc: 0.1120\n",
      "Epoch 12/50\n",
      "4000/4000 [==============================] - 0s 64us/step - loss: 14.4338 - acc: 0.1045 - val_loss: 14.3129 - val_acc: 0.1120\n",
      "Epoch 13/50\n",
      "4000/4000 [==============================] - 0s 62us/step - loss: 14.4338 - acc: 0.1045 - val_loss: 14.3129 - val_acc: 0.1120\n",
      "Epoch 14/50\n",
      "4000/4000 [==============================] - 0s 84us/step - loss: 14.4338 - acc: 0.1045 - val_loss: 14.3129 - val_acc: 0.1120\n",
      "Epoch 15/50\n",
      "4000/4000 [==============================] - 0s 79us/step - loss: 14.4338 - acc: 0.1045 - val_loss: 14.3129 - val_acc: 0.1120\n",
      "Epoch 16/50\n",
      "4000/4000 [==============================] - 0s 81us/step - loss: 14.4338 - acc: 0.1045 - val_loss: 14.3129 - val_acc: 0.1120\n",
      "Epoch 17/50\n",
      "4000/4000 [==============================] - 0s 56us/step - loss: 14.4338 - acc: 0.1045 - val_loss: 14.3129 - val_acc: 0.1120\n",
      "Epoch 18/50\n",
      "4000/4000 [==============================] - 0s 54us/step - loss: 14.4338 - acc: 0.1045 - val_loss: 14.3129 - val_acc: 0.1120\n",
      "Epoch 19/50\n",
      "4000/4000 [==============================] - 0s 55us/step - loss: 14.4338 - acc: 0.1045 - val_loss: 14.3129 - val_acc: 0.1120\n",
      "Epoch 20/50\n",
      "4000/4000 [==============================] - 0s 84us/step - loss: 14.4338 - acc: 0.1045 - val_loss: 14.3129 - val_acc: 0.1120\n",
      "Epoch 21/50\n",
      "4000/4000 [==============================] - 0s 78us/step - loss: 14.4338 - acc: 0.1045 - val_loss: 14.3129 - val_acc: 0.1120\n",
      "Epoch 22/50\n",
      "4000/4000 [==============================] - 0s 57us/step - loss: 14.4338 - acc: 0.1045 - val_loss: 14.3129 - val_acc: 0.1120\n",
      "Epoch 23/50\n",
      "4000/4000 [==============================] - 0s 62us/step - loss: 14.4338 - acc: 0.1045 - val_loss: 14.3129 - val_acc: 0.1120\n",
      "Epoch 24/50\n",
      "4000/4000 [==============================] - 0s 56us/step - loss: 14.4338 - acc: 0.1045 - val_loss: 14.3129 - val_acc: 0.1120\n",
      "Epoch 25/50\n",
      "4000/4000 [==============================] - 0s 57us/step - loss: 14.4338 - acc: 0.1045 - val_loss: 14.3129 - val_acc: 0.1120\n",
      "Epoch 26/50\n",
      "4000/4000 [==============================] - 0s 68us/step - loss: 14.4338 - acc: 0.1045 - val_loss: 14.3129 - val_acc: 0.1120\n",
      "Epoch 27/50\n",
      "4000/4000 [==============================] - 0s 84us/step - loss: 14.4338 - acc: 0.1045 - val_loss: 14.3129 - val_acc: 0.1120\n",
      "Epoch 28/50\n",
      "4000/4000 [==============================] - 0s 75us/step - loss: 14.4338 - acc: 0.1045 - val_loss: 14.3129 - val_acc: 0.1120\n",
      "Epoch 29/50\n",
      "4000/4000 [==============================] - 0s 70us/step - loss: 14.4338 - acc: 0.1045 - val_loss: 14.3129 - val_acc: 0.1120\n",
      "Epoch 30/50\n",
      "4000/4000 [==============================] - 0s 57us/step - loss: 14.4338 - acc: 0.1045 - val_loss: 14.3129 - val_acc: 0.1120\n",
      "Epoch 31/50\n",
      "4000/4000 [==============================] - 0s 58us/step - loss: 14.4338 - acc: 0.1045 - val_loss: 14.3129 - val_acc: 0.1120\n",
      "Epoch 32/50\n",
      "4000/4000 [==============================] - 0s 56us/step - loss: 14.4338 - acc: 0.1045 - val_loss: 14.3129 - val_acc: 0.1120\n",
      "Epoch 33/50\n",
      "4000/4000 [==============================] - 0s 55us/step - loss: 14.4338 - acc: 0.1045 - val_loss: 14.3129 - val_acc: 0.1120\n",
      "Epoch 34/50\n",
      "4000/4000 [==============================] - 0s 54us/step - loss: 14.4338 - acc: 0.1045 - val_loss: 14.3129 - val_acc: 0.1120\n",
      "Epoch 35/50\n",
      "4000/4000 [==============================] - 0s 55us/step - loss: 14.4338 - acc: 0.1045 - val_loss: 14.3129 - val_acc: 0.1120\n",
      "Epoch 36/50\n",
      "4000/4000 [==============================] - 0s 86us/step - loss: 14.4338 - acc: 0.1045 - val_loss: 14.3129 - val_acc: 0.1120\n",
      "Epoch 37/50\n",
      "4000/4000 [==============================] - 0s 93us/step - loss: 14.4338 - acc: 0.1045 - val_loss: 14.3129 - val_acc: 0.1120\n",
      "Epoch 38/50\n",
      "4000/4000 [==============================] - 0s 59us/step - loss: 14.4338 - acc: 0.1045 - val_loss: 14.3129 - val_acc: 0.1120\n",
      "Epoch 39/50\n",
      "4000/4000 [==============================] - 0s 54us/step - loss: 14.4338 - acc: 0.1045 - val_loss: 14.3129 - val_acc: 0.1120\n",
      "Epoch 40/50\n",
      "4000/4000 [==============================] - 0s 55us/step - loss: 14.4338 - acc: 0.1045 - val_loss: 14.3129 - val_acc: 0.1120\n",
      "Epoch 41/50\n",
      "4000/4000 [==============================] - 0s 55us/step - loss: 14.4338 - acc: 0.1045 - val_loss: 14.3129 - val_acc: 0.1120\n",
      "Epoch 42/50\n",
      "4000/4000 [==============================] - 0s 57us/step - loss: 14.4338 - acc: 0.1045 - val_loss: 14.3129 - val_acc: 0.1120\n",
      "Epoch 43/50\n",
      "4000/4000 [==============================] - 0s 53us/step - loss: 14.4338 - acc: 0.1045 - val_loss: 14.3129 - val_acc: 0.1120\n",
      "Epoch 44/50\n",
      "4000/4000 [==============================] - 0s 64us/step - loss: 14.4338 - acc: 0.1045 - val_loss: 14.3129 - val_acc: 0.1120\n",
      "Epoch 45/50\n",
      "4000/4000 [==============================] - 0s 70us/step - loss: 14.4338 - acc: 0.1045 - val_loss: 14.3129 - val_acc: 0.1120\n",
      "Epoch 46/50\n",
      "4000/4000 [==============================] - 0s 70us/step - loss: 14.4338 - acc: 0.1045 - val_loss: 14.3129 - val_acc: 0.1120\n",
      "Epoch 47/50\n",
      "4000/4000 [==============================] - 0s 69us/step - loss: 14.4338 - acc: 0.1045 - val_loss: 14.3129 - val_acc: 0.1120\n",
      "Epoch 48/50\n",
      "4000/4000 [==============================] - 0s 80us/step - loss: 14.4338 - acc: 0.1045 - val_loss: 14.3129 - val_acc: 0.1120\n",
      "Epoch 49/50\n",
      "4000/4000 [==============================] - 0s 61us/step - loss: 14.4338 - acc: 0.1045 - val_loss: 14.3129 - val_acc: 0.1120\n",
      "Epoch 50/50\n",
      "4000/4000 [==============================] - 0s 77us/step - loss: 14.4338 - acc: 0.1045 - val_loss: 14.3129 - val_acc: 0.1120\n"
     ]
    },
    {
     "data": {
      "image/png": "[encoded data removed]",
      "text/plain": [
       "<matplotlib.figure.Figure at 0x7f3e88edff98>"
      ]
     },
     "metadata": {},
     "output_type": "display_data"
    }
   ],
   "source": [
    "plot_history(model(n_hidden=50, batch_size=5000, learning_rate=10))\n",
    "plt.show()"
   ]
  },
  {
   "cell_type": "code",
   "execution_count": 10,
   "metadata": {},
   "outputs": [
    {
     "name": "stdout",
     "output_type": "stream",
     "text": [
      "Train on 4000 samples, validate on 1000 samples\n",
      "Epoch 1/50\n",
      "4000/4000 [==============================] - 0s 88us/step - loss: 2.5096 - acc: 0.0728 - val_loss: 4.2841 - val_acc: 0.1120\n",
      "Epoch 2/50\n",
      "4000/4000 [==============================] - 0s 50us/step - loss: 4.3846 - acc: 0.1045 - val_loss: 5.7912 - val_acc: 0.0820\n",
      "Epoch 3/50\n",
      "4000/4000 [==============================] - 0s 54us/step - loss: 5.8799 - acc: 0.1045 - val_loss: 6.7970 - val_acc: 0.0900\n",
      "Epoch 4/50\n",
      "4000/4000 [==============================] - 0s 52us/step - loss: 6.8309 - acc: 0.0925 - val_loss: 6.9445 - val_acc: 0.1210\n",
      "Epoch 5/50\n",
      "4000/4000 [==============================] - 0s 53us/step - loss: 7.2618 - acc: 0.1125 - val_loss: 7.8818 - val_acc: 0.0920\n",
      "Epoch 6/50\n",
      "4000/4000 [==============================] - 0s 54us/step - loss: 8.0277 - acc: 0.1020 - val_loss: 8.7696 - val_acc: 0.0840\n",
      "Epoch 7/50\n",
      "4000/4000 [==============================] - 0s 56us/step - loss: 8.9633 - acc: 0.0945 - val_loss: 9.1470 - val_acc: 0.1050\n",
      "Epoch 8/50\n",
      "4000/4000 [==============================] - 0s 54us/step - loss: 9.4366 - acc: 0.0960 - val_loss: 9.8304 - val_acc: 0.0920\n",
      "Epoch 9/50\n",
      "4000/4000 [==============================] - 0s 55us/step - loss: 9.9389 - acc: 0.1020 - val_loss: 11.0962 - val_acc: 0.1010\n",
      "Epoch 10/50\n",
      "4000/4000 [==============================] - 0s 54us/step - loss: 10.9466 - acc: 0.1028 - val_loss: 11.4219 - val_acc: 0.0840\n",
      "Epoch 11/50\n",
      "4000/4000 [==============================] - 0s 55us/step - loss: 11.4214 - acc: 0.0945 - val_loss: 10.7205 - val_acc: 0.1290\n",
      "Epoch 12/50\n",
      "4000/4000 [==============================] - 0s 52us/step - loss: 10.9377 - acc: 0.0978 - val_loss: 11.5996 - val_acc: 0.0840\n",
      "Epoch 13/50\n",
      "4000/4000 [==============================] - 0s 53us/step - loss: 11.4494 - acc: 0.0930 - val_loss: 12.0213 - val_acc: 0.0920\n",
      "Epoch 14/50\n",
      "4000/4000 [==============================] - 0s 52us/step - loss: 12.0858 - acc: 0.1020 - val_loss: 12.4093 - val_acc: 0.1010\n",
      "Epoch 15/50\n",
      "4000/4000 [==============================] - 0s 53us/step - loss: 12.7189 - acc: 0.1028 - val_loss: 12.9007 - val_acc: 0.1290\n",
      "Epoch 16/50\n",
      "4000/4000 [==============================] - 0s 54us/step - loss: 13.3128 - acc: 0.0978 - val_loss: 12.9987 - val_acc: 0.0840\n",
      "Epoch 17/50\n",
      "4000/4000 [==============================] - 0s 55us/step - loss: 13.0049 - acc: 0.0930 - val_loss: 12.7983 - val_acc: 0.1010\n",
      "Epoch 18/50\n",
      "4000/4000 [==============================] - 0s 52us/step - loss: 13.0739 - acc: 0.1028 - val_loss: 12.8652 - val_acc: 0.1290\n",
      "Epoch 19/50\n",
      "4000/4000 [==============================] - 0s 53us/step - loss: 13.2824 - acc: 0.0978 - val_loss: 12.7371 - val_acc: 0.0840\n",
      "Epoch 20/50\n",
      "4000/4000 [==============================] - 0s 52us/step - loss: 12.7627 - acc: 0.0930 - val_loss: 12.9802 - val_acc: 0.1010\n",
      "Epoch 21/50\n",
      "4000/4000 [==============================] - 0s 53us/step - loss: 13.2444 - acc: 0.1028 - val_loss: 12.8432 - val_acc: 0.1290\n",
      "Epoch 22/50\n",
      "4000/4000 [==============================] - 0s 53us/step - loss: 13.2635 - acc: 0.0978 - val_loss: 12.5820 - val_acc: 0.0840\n",
      "Epoch 23/50\n",
      "4000/4000 [==============================] - 0s 53us/step - loss: 12.6193 - acc: 0.0930 - val_loss: 12.9526 - val_acc: 0.1010\n",
      "Epoch 24/50\n",
      "4000/4000 [==============================] - 0s 54us/step - loss: 13.2160 - acc: 0.1028 - val_loss: 12.8307 - val_acc: 0.1290\n",
      "Epoch 25/50\n",
      "4000/4000 [==============================] - 0s 53us/step - loss: 13.2492 - acc: 0.0978 - val_loss: 12.6290 - val_acc: 0.0840\n",
      "Epoch 26/50\n",
      "4000/4000 [==============================] - 0s 52us/step - loss: 12.6607 - acc: 0.0930 - val_loss: 12.9895 - val_acc: 0.1010\n",
      "Epoch 27/50\n",
      "4000/4000 [==============================] - 0s 57us/step - loss: 13.2494 - acc: 0.1028 - val_loss: 12.8169 - val_acc: 0.1290\n",
      "Epoch 28/50\n",
      "4000/4000 [==============================] - 0s 55us/step - loss: 13.2354 - acc: 0.0978 - val_loss: 12.6113 - val_acc: 0.0840\n",
      "Epoch 29/50\n",
      "4000/4000 [==============================] - 0s 53us/step - loss: 12.6431 - acc: 0.0930 - val_loss: 12.9804 - val_acc: 0.1010\n",
      "Epoch 30/50\n",
      "4000/4000 [==============================] - 0s 53us/step - loss: 13.2389 - acc: 0.1028 - val_loss: 12.8057 - val_acc: 0.1290\n",
      "Epoch 31/50\n",
      "4000/4000 [==============================] - 0s 54us/step - loss: 13.2230 - acc: 0.0978 - val_loss: 12.6373 - val_acc: 0.0840\n",
      "Epoch 32/50\n",
      "4000/4000 [==============================] - 0s 52us/step - loss: 12.6656 - acc: 0.0930 - val_loss: 13.0013 - val_acc: 0.1010\n",
      "Epoch 33/50\n",
      "4000/4000 [==============================] - 0s 53us/step - loss: 13.2573 - acc: 0.1028 - val_loss: 12.7941 - val_acc: 0.1290\n",
      "Epoch 34/50\n",
      "4000/4000 [==============================] - 0s 52us/step - loss: 13.2111 - acc: 0.0978 - val_loss: 12.6325 - val_acc: 0.0840\n",
      "Epoch 35/50\n",
      "4000/4000 [==============================] - 0s 53us/step - loss: 12.6601 - acc: 0.0930 - val_loss: 13.0004 - val_acc: 0.1010\n",
      "Epoch 36/50\n",
      "4000/4000 [==============================] - 0s 53us/step - loss: 13.2549 - acc: 0.1028 - val_loss: 12.7841 - val_acc: 0.1290\n",
      "Epoch 37/50\n",
      "4000/4000 [==============================] - 0s 53us/step - loss: 13.2003 - acc: 0.0978 - val_loss: 12.6482 - val_acc: 0.0840\n",
      "Epoch 38/50\n",
      "4000/4000 [==============================] - 0s 52us/step - loss: 12.6733 - acc: 0.0930 - val_loss: 13.0135 - val_acc: 0.1010\n",
      "Epoch 39/50\n",
      "4000/4000 [==============================] - 0s 51us/step - loss: 13.2661 - acc: 0.1028 - val_loss: 12.7742 - val_acc: 0.1290\n",
      "Epoch 40/50\n",
      "4000/4000 [==============================] - 0s 51us/step - loss: 13.1899 - acc: 0.0978 - val_loss: 12.6491 - val_acc: 0.0840\n",
      "Epoch 41/50\n",
      "4000/4000 [==============================] - 0s 53us/step - loss: 12.6731 - acc: 0.0930 - val_loss: 13.0161 - val_acc: 0.1010\n",
      "Epoch 42/50\n",
      "4000/4000 [==============================] - 0s 52us/step - loss: 13.2672 - acc: 0.1028 - val_loss: 12.7652 - val_acc: 0.1290\n",
      "Epoch 43/50\n",
      "4000/4000 [==============================] - 0s 52us/step - loss: 13.1804 - acc: 0.0978 - val_loss: 12.6594 - val_acc: 0.0840\n",
      "Epoch 44/50\n",
      "4000/4000 [==============================] - 0s 50us/step - loss: 12.6815 - acc: 0.0930 - val_loss: 13.0252 - val_acc: 0.1010\n",
      "Epoch 45/50\n",
      "4000/4000 [==============================] - 0s 52us/step - loss: 13.2747 - acc: 0.1028 - val_loss: 12.7566 - val_acc: 0.1290\n",
      "Epoch 46/50\n",
      "4000/4000 [==============================] - 0s 51us/step - loss: 13.1713 - acc: 0.0978 - val_loss: 12.6625 - val_acc: 0.0840\n",
      "Epoch 47/50\n",
      "4000/4000 [==============================] - 0s 52us/step - loss: 12.6835 - acc: 0.0930 - val_loss: 13.0292 - val_acc: 0.1010\n",
      "Epoch 48/50\n",
      "4000/4000 [==============================] - 0s 51us/step - loss: 13.2773 - acc: 0.1028 - val_loss: 12.7486 - val_acc: 0.1290\n",
      "Epoch 49/50\n",
      "4000/4000 [==============================] - 0s 52us/step - loss: 13.1628 - acc: 0.0978 - val_loss: 12.6700 - val_acc: 0.0840\n",
      "Epoch 50/50\n",
      "4000/4000 [==============================] - 0s 51us/step - loss: 12.6895 - acc: 0.0930 - val_loss: 13.0361 - val_acc: 0.1010\n"
     ]
    },
    {
     "data": {
      "image/png": "[encoded data removed]",
      "text/plain": [
       "<matplotlib.figure.Figure at 0x7f3e6edaecf8>"
      ]
     },
     "metadata": {},
     "output_type": "display_data"
    }
   ],
   "source": [
    "plot_history(model(n_hidden=25, batch_size=5000, learning_rate=10))\n",
    "plt.show()"
   ]
  },
  {
   "cell_type": "code",
   "execution_count": 11,
   "metadata": {
    "scrolled": true
   },
   "outputs": [
    {
     "name": "stdout",
     "output_type": "stream",
     "text": [
      "Train on 4000 samples, validate on 1000 samples\n",
      "Epoch 1/50\n",
      "4000/4000 [==============================] - 1s 288us/step - loss: 14.4566 - acc: 0.0945 - val_loss: 14.7642 - val_acc: 0.0840\n",
      "Epoch 2/50\n",
      "4000/4000 [==============================] - 1s 249us/step - loss: 14.5949 - acc: 0.0945 - val_loss: 14.7642 - val_acc: 0.0840\n",
      "Epoch 3/50\n",
      "4000/4000 [==============================] - 1s 258us/step - loss: 14.5949 - acc: 0.0945 - val_loss: 14.7642 - val_acc: 0.0840\n",
      "Epoch 4/50\n",
      "4000/4000 [==============================] - 1s 247us/step - loss: 14.5949 - acc: 0.0945 - val_loss: 14.7642 - val_acc: 0.0840\n",
      "Epoch 5/50\n",
      "4000/4000 [==============================] - 1s 270us/step - loss: 14.5949 - acc: 0.0945 - val_loss: 14.7642 - val_acc: 0.0840\n",
      "Epoch 6/50\n",
      "4000/4000 [==============================] - 1s 283us/step - loss: 14.5949 - acc: 0.0945 - val_loss: 14.7642 - val_acc: 0.0840\n",
      "Epoch 7/50\n",
      "4000/4000 [==============================] - 1s 247us/step - loss: 14.5949 - acc: 0.0945 - val_loss: 14.7642 - val_acc: 0.0840\n",
      "Epoch 8/50\n",
      "4000/4000 [==============================] - 1s 246us/step - loss: 14.5949 - acc: 0.0945 - val_loss: 14.7642 - val_acc: 0.0840\n",
      "Epoch 9/50\n",
      "4000/4000 [==============================] - 1s 240us/step - loss: 14.5949 - acc: 0.0945 - val_loss: 14.7642 - val_acc: 0.0840\n",
      "Epoch 10/50\n",
      "4000/4000 [==============================] - 1s 246us/step - loss: 14.5949 - acc: 0.0945 - val_loss: 14.7642 - val_acc: 0.0840\n",
      "Epoch 11/50\n",
      "4000/4000 [==============================] - 1s 251us/step - loss: 14.5949 - acc: 0.0945 - val_loss: 14.7642 - val_acc: 0.0840\n",
      "Epoch 12/50\n",
      "4000/4000 [==============================] - 1s 248us/step - loss: 14.5949 - acc: 0.0945 - val_loss: 14.7642 - val_acc: 0.0840\n",
      "Epoch 13/50\n",
      "4000/4000 [==============================] - 1s 244us/step - loss: 14.5949 - acc: 0.0945 - val_loss: 14.7642 - val_acc: 0.0840\n",
      "Epoch 14/50\n",
      "4000/4000 [==============================] - 1s 247us/step - loss: 14.5949 - acc: 0.0945 - val_loss: 14.7642 - val_acc: 0.0840\n",
      "Epoch 15/50\n",
      "4000/4000 [==============================] - 1s 259us/step - loss: 14.5949 - acc: 0.0945 - val_loss: 14.7642 - val_acc: 0.0840\n",
      "Epoch 16/50\n",
      "4000/4000 [==============================] - 1s 260us/step - loss: 14.5949 - acc: 0.0945 - val_loss: 14.7642 - val_acc: 0.0840\n",
      "Epoch 17/50\n",
      "4000/4000 [==============================] - 1s 245us/step - loss: 14.5949 - acc: 0.0945 - val_loss: 14.7642 - val_acc: 0.0840\n",
      "Epoch 18/50\n",
      "4000/4000 [==============================] - 1s 247us/step - loss: 14.5949 - acc: 0.0945 - val_loss: 14.7642 - val_acc: 0.0840\n",
      "Epoch 19/50\n",
      "4000/4000 [==============================] - 1s 245us/step - loss: 14.5949 - acc: 0.0945 - val_loss: 14.7642 - val_acc: 0.0840\n",
      "Epoch 20/50\n",
      "4000/4000 [==============================] - 1s 244us/step - loss: 14.5949 - acc: 0.0945 - val_loss: 14.7642 - val_acc: 0.0840\n",
      "Epoch 21/50\n",
      "4000/4000 [==============================] - 1s 251us/step - loss: 14.5949 - acc: 0.0945 - val_loss: 14.7642 - val_acc: 0.0840\n",
      "Epoch 22/50\n",
      "4000/4000 [==============================] - 1s 245us/step - loss: 14.5949 - acc: 0.0945 - val_loss: 14.7642 - val_acc: 0.0840\n",
      "Epoch 23/50\n",
      "4000/4000 [==============================] - 1s 242us/step - loss: 14.5949 - acc: 0.0945 - val_loss: 14.7642 - val_acc: 0.0840\n",
      "Epoch 24/50\n",
      "4000/4000 [==============================] - 1s 239us/step - loss: 14.5949 - acc: 0.0945 - val_loss: 14.7642 - val_acc: 0.0840\n",
      "Epoch 25/50\n",
      "4000/4000 [==============================] - 1s 245us/step - loss: 14.5949 - acc: 0.0945 - val_loss: 14.7642 - val_acc: 0.0840\n",
      "Epoch 26/50\n",
      "4000/4000 [==============================] - 1s 245us/step - loss: 14.5949 - acc: 0.0945 - val_loss: 14.7642 - val_acc: 0.0840\n",
      "Epoch 27/50\n",
      "4000/4000 [==============================] - 1s 247us/step - loss: 14.5949 - acc: 0.0945 - val_loss: 14.7642 - val_acc: 0.0840\n",
      "Epoch 28/50\n",
      "4000/4000 [==============================] - 1s 242us/step - loss: 14.5949 - acc: 0.0945 - val_loss: 14.7642 - val_acc: 0.0840\n",
      "Epoch 29/50\n",
      "4000/4000 [==============================] - 1s 239us/step - loss: 14.5949 - acc: 0.0945 - val_loss: 14.7642 - val_acc: 0.0840\n",
      "Epoch 30/50\n",
      "4000/4000 [==============================] - 1s 248us/step - loss: 14.5949 - acc: 0.0945 - val_loss: 14.7642 - val_acc: 0.0840\n",
      "Epoch 31/50\n",
      "4000/4000 [==============================] - 1s 240us/step - loss: 14.5949 - acc: 0.0945 - val_loss: 14.7642 - val_acc: 0.0840\n",
      "Epoch 32/50\n",
      "4000/4000 [==============================] - 1s 254us/step - loss: 14.5949 - acc: 0.0945 - val_loss: 14.7642 - val_acc: 0.0840\n",
      "Epoch 33/50\n",
      "4000/4000 [==============================] - 1s 241us/step - loss: 14.5949 - acc: 0.0945 - val_loss: 14.7642 - val_acc: 0.0840\n",
      "Epoch 34/50\n",
      "4000/4000 [==============================] - 1s 262us/step - loss: 14.5949 - acc: 0.0945 - val_loss: 14.7642 - val_acc: 0.0840\n",
      "Epoch 35/50\n",
      "4000/4000 [==============================] - 1s 281us/step - loss: 14.5949 - acc: 0.0945 - val_loss: 14.7642 - val_acc: 0.0840\n",
      "Epoch 36/50\n",
      "4000/4000 [==============================] - 1s 277us/step - loss: 14.5949 - acc: 0.0945 - val_loss: 14.7642 - val_acc: 0.0840\n",
      "Epoch 37/50\n",
      "4000/4000 [==============================] - 1s 263us/step - loss: 14.5949 - acc: 0.0945 - val_loss: 14.7642 - val_acc: 0.0840\n",
      "Epoch 38/50\n",
      "4000/4000 [==============================] - 1s 276us/step - loss: 14.5949 - acc: 0.0945 - val_loss: 14.7642 - val_acc: 0.0840\n",
      "Epoch 39/50\n",
      "4000/4000 [==============================] - 1s 314us/step - loss: 14.5949 - acc: 0.0945 - val_loss: 14.7642 - val_acc: 0.0840\n",
      "Epoch 40/50\n",
      "4000/4000 [==============================] - 1s 258us/step - loss: 14.5949 - acc: 0.0945 - val_loss: 14.7642 - val_acc: 0.0840\n",
      "Epoch 41/50\n",
      "4000/4000 [==============================] - 1s 242us/step - loss: 14.5949 - acc: 0.0945 - val_loss: 14.7642 - val_acc: 0.0840\n",
      "Epoch 42/50\n",
      "4000/4000 [==============================] - 1s 243us/step - loss: 14.5949 - acc: 0.0945 - val_loss: 14.7642 - val_acc: 0.0840\n",
      "Epoch 43/50\n",
      "4000/4000 [==============================] - 1s 301us/step - loss: 14.5949 - acc: 0.0945 - val_loss: 14.7642 - val_acc: 0.0840\n",
      "Epoch 44/50\n",
      "4000/4000 [==============================] - 1s 256us/step - loss: 14.5949 - acc: 0.0945 - val_loss: 14.7642 - val_acc: 0.0840\n",
      "Epoch 45/50\n",
      "4000/4000 [==============================] - 1s 274us/step - loss: 14.5949 - acc: 0.0945 - val_loss: 14.7642 - val_acc: 0.0840\n",
      "Epoch 46/50\n",
      "4000/4000 [==============================] - 1s 374us/step - loss: 14.5949 - acc: 0.0945 - val_loss: 14.7642 - val_acc: 0.0840\n",
      "Epoch 47/50\n",
      "4000/4000 [==============================] - 1s 329us/step - loss: 14.5949 - acc: 0.0945 - val_loss: 14.7642 - val_acc: 0.0840\n",
      "Epoch 48/50\n",
      "4000/4000 [==============================] - 1s 287us/step - loss: 14.5949 - acc: 0.0945 - val_loss: 14.7642 - val_acc: 0.0840\n",
      "Epoch 49/50\n",
      "4000/4000 [==============================] - 1s 316us/step - loss: 14.5949 - acc: 0.0945 - val_loss: 14.7642 - val_acc: 0.0840\n",
      "Epoch 50/50\n",
      "4000/4000 [==============================] - 1s 291us/step - loss: 14.5949 - acc: 0.0945 - val_loss: 14.7642 - val_acc: 0.0840\n"
     ]
    },
    {
     "data": {
      "image/png": "[encoded data removed]",
      "text/plain": [
       "<matplotlib.figure.Figure at 0x7f3e60bb4a20>"
      ]
     },
     "metadata": {},
     "output_type": "display_data"
    }
   ],
   "source": [
    "plot_history(model(n_hidden=100, batch_size=50, learning_rate=10))\n",
    "plt.show()"
   ]
  },
  {
   "cell_type": "code",
   "execution_count": 12,
   "metadata": {},
   "outputs": [
    {
     "name": "stdout",
     "output_type": "stream",
     "text": [
      "0 = loss: 80.19544 accuracy: 0.08\n",
      "10 = loss: 51.015587 accuracy: 0.12\n",
      "20 = loss: 39.41071 accuracy: 0.18\n",
      "30 = loss: 47.796574 accuracy: 0.22\n",
      "40 = loss: 43.19472 accuracy: 0.14\n",
      "50 = loss: 72.58309 accuracy: 0.08\n",
      "60 = loss: 60.054394 accuracy: 0.12\n",
      "70 = loss: 54.236298 accuracy: 0.04\n",
      "80 = loss: 63.10435 accuracy: 0.18\n",
      "90 = loss: 59.804955 accuracy: 0.1\n"
     ]
    }
   ],
   "source": [
    "plot_history(model(n_hidden=50, batch_size=50, learning_rate=10))\n",
    "plt.show()"
   ]
  },
  {
   "cell_type": "code",
   "execution_count": 13,
   "metadata": {},
   "outputs": [
    {
     "name": "stdout",
     "output_type": "stream",
     "text": [
      "0 = loss: 39.86313 accuracy: 0.08\n",
      "10 = loss: 28.901056 accuracy: 0.22\n",
      "20 = loss: 25.459732 accuracy: 0.12\n",
      "30 = loss: 32.071754 accuracy: 0.12\n",
      "40 = loss: 26.979805 accuracy: 0.08\n",
      "50 = loss: 18.6062 accuracy: 0.04\n",
      "60 = loss: 15.7359085 accuracy: 0.1\n",
      "70 = loss: 42.08707 accuracy: 0.08\n",
      "80 = loss: 19.872309 accuracy: 0.08\n",
      "90 = loss: 24.908298 accuracy: 0.08\n"
     ]
    }
   ],
   "source": [
    "plot_history(model(n_hidden=25, batch_size=50, learning_rate=10))\n",
    "plt.show()"
   ]
  },
  {
   "cell_type": "code",
   "execution_count": 14,
   "metadata": {},
   "outputs": [
    {
     "name": "stdout",
     "output_type": "stream",
     "text": [
      "0 = loss: 112.25073 accuracy: 0.12\n",
      "10 = loss: 97.650955 accuracy: 0.16\n",
      "20 = loss: 170.03871 accuracy: 0.16\n",
      "30 = loss: 111.06299 accuracy: 0.12\n",
      "40 = loss: 154.86241 accuracy: 0.12\n",
      "50 = loss: 171.00916 accuracy: 0.08\n",
      "60 = loss: 166.23341 accuracy: 0.08\n",
      "70 = loss: 191.00748 accuracy: 0.16\n",
      "80 = loss: 155.51079 accuracy: 0.12\n",
      "90 = loss: 114.70039 accuracy: 0.12\n"
     ]
    }
   ],
   "source": [
    "plot_history(model(n_hidden=100, batch_size=25, learning_rate=10))\n",
    "plt.show()"
   ]
  },
  {
   "cell_type": "code",
   "execution_count": 15,
   "metadata": {},
   "outputs": [
    {
     "name": "stdout",
     "output_type": "stream",
     "text": [
      "0 = loss: 50.50403 accuracy: 0.12\n",
      "10 = loss: 76.76504 accuracy: 0.08\n",
      "20 = loss: 76.983025 accuracy: 0.16\n",
      "30 = loss: 44.57356 accuracy: 0.12\n",
      "40 = loss: 54.41353 accuracy: 0.16\n",
      "50 = loss: 52.96219 accuracy: 0.12\n",
      "60 = loss: 63.271732 accuracy: 0.12\n",
      "70 = loss: 57.632046 accuracy: 0.16\n",
      "80 = loss: 44.709156 accuracy: 0.12\n",
      "90 = loss: 47.629974 accuracy: 0.12\n"
     ]
    }
   ],
   "source": [
    "plot_history(model(n_hidden=50, batch_size=25, learning_rate=10))\n",
    "plt.show()"
   ]
  },
  {
   "cell_type": "code",
   "execution_count": 16,
   "metadata": {},
   "outputs": [
    {
     "name": "stdout",
     "output_type": "stream",
     "text": [
      "0 = loss: 19.38664 accuracy: 0.12\n",
      "10 = loss: 29.108715 accuracy: 0.16\n",
      "20 = loss: 30.990145 accuracy: 0.12\n",
      "30 = loss: 18.266512 accuracy: 0.12\n",
      "40 = loss: 25.476562 accuracy: 0.16\n",
      "50 = loss: 26.03979 accuracy: 0.16\n",
      "60 = loss: 15.6571 accuracy: 0.12\n",
      "70 = loss: 35.82229 accuracy: 0.12\n",
      "80 = loss: 37.447582 accuracy: 0.16\n",
      "90 = loss: 13.68835 accuracy: 0.12\n"
     ]
    }
   ],
   "source": [
    "plot_history(model(n_hidden=25, batch_size=25, learning_rate=10))\n",
    "plt.show()"
   ]
  },
  {
   "cell_type": "code",
   "execution_count": 17,
   "metadata": {},
   "outputs": [
    {
     "name": "stdout",
     "output_type": "stream",
     "text": [
      "0 = loss: 193.45107 accuracy: 0.0\n",
      "10 = loss: 193.45107 accuracy: 0.0\n",
      "20 = loss: 216.06845 accuracy: 0.0\n",
      "30 = loss: 225.67352 accuracy: 0.0\n",
      "40 = loss: 225.83029 accuracy: 0.0\n",
      "50 = loss: 225.95409 accuracy: 0.0\n",
      "60 = loss: 225.95409 accuracy: 0.0\n",
      "70 = loss: 225.95409 accuracy: 0.0\n",
      "80 = loss: 225.95409 accuracy: 0.0\n",
      "90 = loss: 225.95409 accuracy: 0.0\n"
     ]
    }
   ],
   "source": [
    "plot_history(model(n_hidden=100, batch_size=1, learning_rate=10))\n",
    "plt.show()"
   ]
  },
  {
   "cell_type": "code",
   "execution_count": 18,
   "metadata": {},
   "outputs": [
    {
     "name": "stdout",
     "output_type": "stream",
     "text": [
      "0 = loss: 131.60335 accuracy: 0.0\n",
      "10 = loss: 155.01715 accuracy: 0.0\n",
      "20 = loss: 155.92593 accuracy: 0.0\n",
      "30 = loss: 155.95331 accuracy: 0.0\n",
      "40 = loss: 155.97902 accuracy: 0.0\n",
      "50 = loss: 156.00323 accuracy: 0.0\n",
      "60 = loss: 156.02614 accuracy: 0.0\n",
      "70 = loss: 156.04785 accuracy: 0.0\n",
      "80 = loss: 156.06848 accuracy: 0.0\n",
      "90 = loss: 156.08815 accuracy: 0.0\n"
     ]
    }
   ],
   "source": [
    "plot_history(model(n_hidden=50, batch_size=1, learning_rate=10))\n",
    "plt.show()"
   ]
  },
  {
   "cell_type": "code",
   "execution_count": 19,
   "metadata": {},
   "outputs": [
    {
     "name": "stdout",
     "output_type": "stream",
     "text": [
      "0 = loss: 102.12682 accuracy: 0.0\n",
      "10 = loss: 122.18825 accuracy: 0.0\n",
      "20 = loss: 122.18825 accuracy: 0.0\n",
      "30 = loss: 122.18825 accuracy: 0.0\n",
      "40 = loss: 122.18825 accuracy: 0.0\n",
      "50 = loss: 122.18825 accuracy: 0.0\n",
      "60 = loss: 122.18825 accuracy: 0.0\n",
      "70 = loss: 122.18825 accuracy: 0.0\n",
      "80 = loss: 122.18825 accuracy: 0.0\n",
      "90 = loss: 122.18825 accuracy: 0.0\n"
     ]
    }
   ],
   "source": [
    "plot_history(model(n_hidden=25, batch_size=1, learning_rate=10))\n",
    "plt.show()"
   ]
  },
  {
   "cell_type": "code",
   "execution_count": 10,
   "metadata": {},
   "outputs": [
    {
     "name": "stdout",
     "output_type": "stream",
     "text": [
      "Train on 4000 samples, validate on 1000 samples\n",
      "Epoch 1/50\n",
      "4000/4000 [==============================] - 0s 94us/step - loss: 2.4469 - acc: 0.0897 - val_loss: 3.2366 - val_acc: 0.1130\n",
      "Epoch 2/50\n",
      "4000/4000 [==============================] - 0s 56us/step - loss: 3.1244 - acc: 0.1238 - val_loss: 2.7225 - val_acc: 0.2550\n",
      "Epoch 3/50\n",
      "4000/4000 [==============================] - 0s 58us/step - loss: 2.7923 - acc: 0.2298 - val_loss: 2.4020 - val_acc: 0.1680\n",
      "Epoch 4/50\n",
      "4000/4000 [==============================] - 0s 57us/step - loss: 2.3899 - acc: 0.1670 - val_loss: 1.9494 - val_acc: 0.3520\n",
      "Epoch 5/50\n",
      "4000/4000 [==============================] - 0s 55us/step - loss: 1.9355 - acc: 0.3820 - val_loss: 1.6259 - val_acc: 0.5850\n",
      "Epoch 6/50\n",
      "4000/4000 [==============================] - 0s 57us/step - loss: 1.6239 - acc: 0.5987 - val_loss: 1.4354 - val_acc: 0.5780\n",
      "Epoch 7/50\n",
      "4000/4000 [==============================] - 0s 57us/step - loss: 1.4230 - acc: 0.6030 - val_loss: 1.4153 - val_acc: 0.6080\n",
      "Epoch 8/50\n",
      "4000/4000 [==============================] - 0s 55us/step - loss: 1.4103 - acc: 0.6135 - val_loss: 1.9124 - val_acc: 0.3950\n",
      "Epoch 9/50\n",
      "4000/4000 [==============================] - 0s 56us/step - loss: 1.8526 - acc: 0.4000 - val_loss: 1.8890 - val_acc: 0.3550\n",
      "Epoch 10/50\n",
      "4000/4000 [==============================] - 0s 59us/step - loss: 1.8785 - acc: 0.3930 - val_loss: 1.7621 - val_acc: 0.3690\n",
      "Epoch 11/50\n",
      "4000/4000 [==============================] - 0s 56us/step - loss: 1.8012 - acc: 0.3430 - val_loss: 1.6812 - val_acc: 0.4130\n",
      "Epoch 12/50\n",
      "4000/4000 [==============================] - 0s 57us/step - loss: 1.6702 - acc: 0.4125 - val_loss: 1.4246 - val_acc: 0.5920\n",
      "Epoch 13/50\n",
      "4000/4000 [==============================] - 0s 56us/step - loss: 1.4099 - acc: 0.6332 - val_loss: 1.1468 - val_acc: 0.6390\n",
      "Epoch 14/50\n",
      "4000/4000 [==============================] - 0s 57us/step - loss: 1.1513 - acc: 0.6380 - val_loss: 1.1963 - val_acc: 0.6160\n",
      "Epoch 15/50\n",
      "4000/4000 [==============================] - 0s 55us/step - loss: 1.1146 - acc: 0.6745 - val_loss: 1.0291 - val_acc: 0.6940\n",
      "Epoch 16/50\n",
      "4000/4000 [==============================] - 0s 61us/step - loss: 1.0262 - acc: 0.6955 - val_loss: 0.9402 - val_acc: 0.7200\n",
      "Epoch 17/50\n",
      "4000/4000 [==============================] - 0s 56us/step - loss: 0.8875 - acc: 0.7405 - val_loss: 0.9657 - val_acc: 0.6500\n",
      "Epoch 18/50\n",
      "4000/4000 [==============================] - 0s 56us/step - loss: 0.9127 - acc: 0.6683 - val_loss: 1.1591 - val_acc: 0.6400\n",
      "Epoch 19/50\n",
      "4000/4000 [==============================] - 0s 56us/step - loss: 1.1440 - acc: 0.6382 - val_loss: 1.3343 - val_acc: 0.5670\n",
      "Epoch 20/50\n",
      "4000/4000 [==============================] - 0s 57us/step - loss: 1.2576 - acc: 0.5900 - val_loss: 1.3253 - val_acc: 0.5800\n",
      "Epoch 21/50\n",
      "4000/4000 [==============================] - 0s 56us/step - loss: 1.3014 - acc: 0.5835 - val_loss: 1.2923 - val_acc: 0.5610\n",
      "Epoch 22/50\n",
      "4000/4000 [==============================] - 0s 56us/step - loss: 1.2598 - acc: 0.5878 - val_loss: 0.9563 - val_acc: 0.6660\n",
      "Epoch 23/50\n",
      "4000/4000 [==============================] - 0s 56us/step - loss: 0.9158 - acc: 0.6960 - val_loss: 0.7441 - val_acc: 0.8070\n",
      "Epoch 24/50\n",
      "4000/4000 [==============================] - 0s 59us/step - loss: 0.6834 - acc: 0.8385 - val_loss: 0.6222 - val_acc: 0.8300\n",
      "Epoch 25/50\n",
      "4000/4000 [==============================] - 0s 57us/step - loss: 0.5687 - acc: 0.8648 - val_loss: 0.6197 - val_acc: 0.8270\n",
      "Epoch 26/50\n",
      "4000/4000 [==============================] - 0s 56us/step - loss: 0.5263 - acc: 0.8700 - val_loss: 0.5775 - val_acc: 0.8180\n",
      "Epoch 27/50\n",
      "4000/4000 [==============================] - 0s 58us/step - loss: 0.5276 - acc: 0.8475 - val_loss: 0.7726 - val_acc: 0.7370\n",
      "Epoch 28/50\n",
      "4000/4000 [==============================] - 0s 54us/step - loss: 0.6089 - acc: 0.7862 - val_loss: 0.7834 - val_acc: 0.7490\n",
      "Epoch 29/50\n",
      "4000/4000 [==============================] - 0s 57us/step - loss: 0.7928 - acc: 0.7398 - val_loss: 0.9884 - val_acc: 0.6720\n",
      "Epoch 30/50\n",
      "4000/4000 [==============================] - 0s 56us/step - loss: 0.8042 - acc: 0.7270 - val_loss: 0.6329 - val_acc: 0.7860\n",
      "Epoch 31/50\n",
      "4000/4000 [==============================] - 0s 55us/step - loss: 0.5934 - acc: 0.7993 - val_loss: 0.6337 - val_acc: 0.8080\n",
      "Epoch 32/50\n",
      "4000/4000 [==============================] - 0s 58us/step - loss: 0.5097 - acc: 0.8443 - val_loss: 0.5293 - val_acc: 0.8330\n",
      "Epoch 33/50\n",
      "4000/4000 [==============================] - 0s 54us/step - loss: 0.4507 - acc: 0.8723 - val_loss: 0.5409 - val_acc: 0.8380\n",
      "Epoch 34/50\n",
      "4000/4000 [==============================] - 0s 58us/step - loss: 0.4215 - acc: 0.8850 - val_loss: 0.5146 - val_acc: 0.8410\n",
      "Epoch 35/50\n",
      "4000/4000 [==============================] - 0s 56us/step - loss: 0.4169 - acc: 0.8760 - val_loss: 0.5747 - val_acc: 0.8040\n",
      "Epoch 36/50\n",
      "4000/4000 [==============================] - 0s 57us/step - loss: 0.4425 - acc: 0.8630 - val_loss: 0.6350 - val_acc: 0.7860\n",
      "Epoch 37/50\n",
      "4000/4000 [==============================] - 0s 54us/step - loss: 0.5311 - acc: 0.8138 - val_loss: 0.8242 - val_acc: 0.7060\n",
      "Epoch 38/50\n",
      "4000/4000 [==============================] - 0s 56us/step - loss: 0.6990 - acc: 0.7467 - val_loss: 0.9205 - val_acc: 0.7020\n",
      "Epoch 39/50\n",
      "4000/4000 [==============================] - 0s 55us/step - loss: 0.8420 - acc: 0.7050 - val_loss: 0.7402 - val_acc: 0.7590\n",
      "Epoch 40/50\n",
      "4000/4000 [==============================] - 0s 56us/step - loss: 0.6413 - acc: 0.7790 - val_loss: 0.5802 - val_acc: 0.8030\n",
      "Epoch 41/50\n",
      "4000/4000 [==============================] - 0s 55us/step - loss: 0.4960 - acc: 0.8403 - val_loss: 0.5183 - val_acc: 0.8530\n",
      "Epoch 42/50\n",
      "4000/4000 [==============================] - 0s 56us/step - loss: 0.4041 - acc: 0.8873 - val_loss: 0.4622 - val_acc: 0.8680\n",
      "Epoch 43/50\n",
      "4000/4000 [==============================] - 0s 55us/step - loss: 0.3522 - acc: 0.9080 - val_loss: 0.4482 - val_acc: 0.8640\n",
      "Epoch 44/50\n",
      "4000/4000 [==============================] - 0s 57us/step - loss: 0.3272 - acc: 0.9153 - val_loss: 0.4525 - val_acc: 0.8710\n",
      "Epoch 45/50\n",
      "4000/4000 [==============================] - 0s 56us/step - loss: 0.3136 - acc: 0.9183 - val_loss: 0.4337 - val_acc: 0.8640\n",
      "Epoch 46/50\n",
      "4000/4000 [==============================] - 0s 55us/step - loss: 0.3048 - acc: 0.9183 - val_loss: 0.4739 - val_acc: 0.8640\n",
      "Epoch 47/50\n",
      "4000/4000 [==============================] - 0s 56us/step - loss: 0.3120 - acc: 0.9097 - val_loss: 0.4408 - val_acc: 0.8520\n",
      "Epoch 48/50\n",
      "4000/4000 [==============================] - 0s 56us/step - loss: 0.3215 - acc: 0.9087 - val_loss: 0.5477 - val_acc: 0.8360\n",
      "Epoch 49/50\n",
      "4000/4000 [==============================] - 0s 55us/step - loss: 0.3541 - acc: 0.8857 - val_loss: 0.4757 - val_acc: 0.8430\n",
      "Epoch 50/50\n",
      "4000/4000 [==============================] - 0s 56us/step - loss: 0.3585 - acc: 0.8878 - val_loss: 0.6232 - val_acc: 0.8030\n"
     ]
    },
    {
     "data": {
      "image/png": "[encoded data removed]",
      "text/plain": [
       "<matplotlib.figure.Figure at 0x7facfef65cc0>"
      ]
     },
     "metadata": {},
     "output_type": "display_data"
    }
   ],
   "source": [
    "plot_history(model(n_hidden=100, batch_size=5000, learning_rate=1))\n",
    "plt.show()"
   ]
  },
  {
   "cell_type": "code",
   "execution_count": 11,
   "metadata": {},
   "outputs": [
    {
     "name": "stdout",
     "output_type": "stream",
     "text": [
      "Train on 4000 samples, validate on 1000 samples\n",
      "Epoch 1/50\n",
      "4000/4000 [==============================] - 0s 96us/step - loss: 2.3398 - acc: 0.1460 - val_loss: 2.1383 - val_acc: 0.1140\n",
      "Epoch 2/50\n",
      "4000/4000 [==============================] - 0s 53us/step - loss: 2.1101 - acc: 0.1233 - val_loss: 2.4306 - val_acc: 0.3490\n",
      "Epoch 3/50\n",
      "4000/4000 [==============================] - 0s 58us/step - loss: 2.4590 - acc: 0.3555 - val_loss: 2.2408 - val_acc: 0.2400\n",
      "Epoch 4/50\n",
      "4000/4000 [==============================] - 0s 53us/step - loss: 2.2702 - acc: 0.2450 - val_loss: 1.9420 - val_acc: 0.3010\n",
      "Epoch 5/50\n",
      "4000/4000 [==============================] - 0s 53us/step - loss: 1.9417 - acc: 0.3117 - val_loss: 1.6211 - val_acc: 0.6190\n",
      "Epoch 6/50\n",
      "4000/4000 [==============================] - 0s 56us/step - loss: 1.6005 - acc: 0.6492 - val_loss: 1.4511 - val_acc: 0.5330\n",
      "Epoch 7/50\n",
      "4000/4000 [==============================] - 0s 52us/step - loss: 1.4459 - acc: 0.5447 - val_loss: 1.6573 - val_acc: 0.5050\n",
      "Epoch 8/50\n",
      "4000/4000 [==============================] - 0s 54us/step - loss: 1.6205 - acc: 0.5282 - val_loss: 1.8102 - val_acc: 0.4730\n",
      "Epoch 9/50\n",
      "4000/4000 [==============================] - 0s 53us/step - loss: 1.7866 - acc: 0.4700 - val_loss: 1.7366 - val_acc: 0.4340\n",
      "Epoch 10/50\n",
      "4000/4000 [==============================] - 0s 54us/step - loss: 1.6754 - acc: 0.4755 - val_loss: 1.3298 - val_acc: 0.5780\n",
      "Epoch 11/50\n",
      "4000/4000 [==============================] - 0s 54us/step - loss: 1.3292 - acc: 0.5652 - val_loss: 1.3471 - val_acc: 0.5780\n",
      "Epoch 12/50\n",
      "4000/4000 [==============================] - 0s 56us/step - loss: 1.2796 - acc: 0.6140 - val_loss: 1.2227 - val_acc: 0.6580\n",
      "Epoch 13/50\n",
      "4000/4000 [==============================] - 0s 55us/step - loss: 1.2424 - acc: 0.6420 - val_loss: 1.0837 - val_acc: 0.6400\n",
      "Epoch 14/50\n",
      "4000/4000 [==============================] - 0s 53us/step - loss: 1.0210 - acc: 0.6833 - val_loss: 0.9724 - val_acc: 0.7410\n",
      "Epoch 15/50\n",
      "4000/4000 [==============================] - 0s 53us/step - loss: 0.9429 - acc: 0.7573 - val_loss: 0.9126 - val_acc: 0.7470\n",
      "Epoch 16/50\n",
      "4000/4000 [==============================] - 0s 54us/step - loss: 0.8523 - acc: 0.7722 - val_loss: 0.9375 - val_acc: 0.7440\n",
      "Epoch 17/50\n",
      "4000/4000 [==============================] - 0s 53us/step - loss: 0.8983 - acc: 0.7535 - val_loss: 1.1671 - val_acc: 0.5890\n",
      "Epoch 18/50\n",
      "4000/4000 [==============================] - 0s 55us/step - loss: 1.1156 - acc: 0.6118 - val_loss: 1.6249 - val_acc: 0.5080\n",
      "Epoch 19/50\n",
      "4000/4000 [==============================] - 0s 54us/step - loss: 1.5816 - acc: 0.5480 - val_loss: 1.0516 - val_acc: 0.6590\n",
      "Epoch 20/50\n",
      "4000/4000 [==============================] - 0s 54us/step - loss: 1.0387 - acc: 0.6600 - val_loss: 1.0289 - val_acc: 0.6720\n",
      "Epoch 21/50\n",
      "4000/4000 [==============================] - 0s 53us/step - loss: 0.9931 - acc: 0.6902 - val_loss: 0.8881 - val_acc: 0.6860\n",
      "Epoch 22/50\n",
      "4000/4000 [==============================] - 0s 54us/step - loss: 0.8261 - acc: 0.7270 - val_loss: 0.7964 - val_acc: 0.7430\n",
      "Epoch 23/50\n",
      "4000/4000 [==============================] - 0s 53us/step - loss: 0.7415 - acc: 0.7772 - val_loss: 0.7021 - val_acc: 0.7880\n",
      "Epoch 24/50\n",
      "4000/4000 [==============================] - 0s 55us/step - loss: 0.6438 - acc: 0.7993 - val_loss: 0.7330 - val_acc: 0.7580\n",
      "Epoch 25/50\n",
      "4000/4000 [==============================] - 0s 53us/step - loss: 0.6538 - acc: 0.7883 - val_loss: 0.7628 - val_acc: 0.7430\n",
      "Epoch 26/50\n",
      "4000/4000 [==============================] - 0s 54us/step - loss: 0.7059 - acc: 0.7628 - val_loss: 0.8578 - val_acc: 0.7200\n",
      "Epoch 27/50\n",
      "4000/4000 [==============================] - 0s 53us/step - loss: 0.7464 - acc: 0.7550 - val_loss: 0.8059 - val_acc: 0.7340\n",
      "Epoch 28/50\n",
      "4000/4000 [==============================] - 0s 54us/step - loss: 0.7377 - acc: 0.7467 - val_loss: 0.7470 - val_acc: 0.7280\n",
      "Epoch 29/50\n",
      "4000/4000 [==============================] - 0s 56us/step - loss: 0.6604 - acc: 0.7660 - val_loss: 0.6847 - val_acc: 0.7890\n",
      "Epoch 30/50\n",
      "4000/4000 [==============================] - 0s 61us/step - loss: 0.5839 - acc: 0.8267 - val_loss: 0.5808 - val_acc: 0.8440\n",
      "Epoch 31/50\n",
      "4000/4000 [==============================] - 0s 59us/step - loss: 0.5059 - acc: 0.8650 - val_loss: 0.5859 - val_acc: 0.8310\n",
      "Epoch 32/50\n",
      "4000/4000 [==============================] - 0s 61us/step - loss: 0.4750 - acc: 0.8750 - val_loss: 0.5276 - val_acc: 0.8540\n",
      "Epoch 33/50\n",
      "4000/4000 [==============================] - 0s 58us/step - loss: 0.4474 - acc: 0.8800 - val_loss: 0.5560 - val_acc: 0.8440\n",
      "Epoch 34/50\n",
      "4000/4000 [==============================] - 0s 61us/step - loss: 0.4339 - acc: 0.8852 - val_loss: 0.5147 - val_acc: 0.8490\n",
      "Epoch 35/50\n",
      "4000/4000 [==============================] - 0s 60us/step - loss: 0.4334 - acc: 0.8790 - val_loss: 0.5614 - val_acc: 0.8290\n",
      "Epoch 36/50\n",
      "4000/4000 [==============================] - 0s 60us/step - loss: 0.4206 - acc: 0.8835 - val_loss: 0.5035 - val_acc: 0.8460\n",
      "Epoch 37/50\n",
      "4000/4000 [==============================] - 0s 58us/step - loss: 0.4167 - acc: 0.8775 - val_loss: 0.5720 - val_acc: 0.8150\n",
      "Epoch 38/50\n",
      "4000/4000 [==============================] - 0s 59us/step - loss: 0.4144 - acc: 0.8755 - val_loss: 0.5099 - val_acc: 0.8310\n",
      "Epoch 39/50\n",
      "4000/4000 [==============================] - 0s 59us/step - loss: 0.4210 - acc: 0.8723 - val_loss: 0.6050 - val_acc: 0.7930\n",
      "Epoch 40/50\n",
      "4000/4000 [==============================] - 0s 61us/step - loss: 0.4263 - acc: 0.8570 - val_loss: 0.5181 - val_acc: 0.8290\n",
      "Epoch 41/50\n",
      "4000/4000 [==============================] - 0s 58us/step - loss: 0.4204 - acc: 0.8670 - val_loss: 0.5934 - val_acc: 0.7870\n",
      "Epoch 42/50\n",
      "4000/4000 [==============================] - 0s 62us/step - loss: 0.4163 - acc: 0.8570 - val_loss: 0.5165 - val_acc: 0.8240\n",
      "Epoch 43/50\n",
      "4000/4000 [==============================] - 0s 57us/step - loss: 0.4048 - acc: 0.8708 - val_loss: 0.5495 - val_acc: 0.8080\n",
      "Epoch 44/50\n",
      "4000/4000 [==============================] - 0s 52us/step - loss: 0.3832 - acc: 0.8765 - val_loss: 0.4958 - val_acc: 0.8430\n",
      "Epoch 45/50\n",
      "4000/4000 [==============================] - 0s 53us/step - loss: 0.3649 - acc: 0.8895 - val_loss: 0.4913 - val_acc: 0.8390\n",
      "Epoch 46/50\n",
      "4000/4000 [==============================] - 0s 52us/step - loss: 0.3418 - acc: 0.9045 - val_loss: 0.4686 - val_acc: 0.8610\n",
      "Epoch 47/50\n",
      "4000/4000 [==============================] - 0s 52us/step - loss: 0.3260 - acc: 0.9070 - val_loss: 0.4500 - val_acc: 0.8620\n",
      "Epoch 48/50\n",
      "4000/4000 [==============================] - 0s 53us/step - loss: 0.3147 - acc: 0.9112 - val_loss: 0.4680 - val_acc: 0.8630\n",
      "Epoch 49/50\n",
      "4000/4000 [==============================] - 0s 53us/step - loss: 0.3132 - acc: 0.9118 - val_loss: 0.4541 - val_acc: 0.8560\n",
      "Epoch 50/50\n",
      "4000/4000 [==============================] - 0s 53us/step - loss: 0.3220 - acc: 0.9128 - val_loss: 0.4923 - val_acc: 0.8500\n"
     ]
    },
    {
     "data": {
      "image/png": "[encoded data removed]",
      "text/plain": [
       "<matplotlib.figure.Figure at 0x7face3012cc0>"
      ]
     },
     "metadata": {},
     "output_type": "display_data"
    }
   ],
   "source": [
    "plot_history(model(n_hidden=50, batch_size=5000, learning_rate=1))\n",
    "plt.show()"
   ]
  },
  {
   "cell_type": "code",
   "execution_count": 12,
   "metadata": {
    "scrolled": true
   },
   "outputs": [
    {
     "name": "stdout",
     "output_type": "stream",
     "text": [
      "Train on 4000 samples, validate on 1000 samples\n",
      "Epoch 1/50\n",
      "4000/4000 [==============================] - 0s 98us/step - loss: 2.4547 - acc: 0.0903 - val_loss: 2.4061 - val_acc: 0.1390\n",
      "Epoch 2/50\n",
      "4000/4000 [==============================] - 0s 52us/step - loss: 2.4014 - acc: 0.1343 - val_loss: 2.1322 - val_acc: 0.2560\n",
      "Epoch 3/50\n",
      "4000/4000 [==============================] - 0s 53us/step - loss: 2.1309 - acc: 0.2585 - val_loss: 1.9795 - val_acc: 0.3370\n",
      "Epoch 4/50\n",
      "4000/4000 [==============================] - 0s 54us/step - loss: 1.9773 - acc: 0.3160 - val_loss: 1.9715 - val_acc: 0.3530\n",
      "Epoch 5/50\n",
      "4000/4000 [==============================] - 0s 55us/step - loss: 1.9813 - acc: 0.3203 - val_loss: 1.9894 - val_acc: 0.3120\n",
      "Epoch 6/50\n",
      "4000/4000 [==============================] - 0s 55us/step - loss: 1.9613 - acc: 0.3275 - val_loss: 1.7556 - val_acc: 0.4340\n",
      "Epoch 7/50\n",
      "4000/4000 [==============================] - 0s 61us/step - loss: 1.7654 - acc: 0.4235 - val_loss: 1.6792 - val_acc: 0.5420\n",
      "Epoch 8/50\n",
      "4000/4000 [==============================] - 0s 60us/step - loss: 1.6786 - acc: 0.5372 - val_loss: 1.6735 - val_acc: 0.4880\n",
      "Epoch 9/50\n",
      "4000/4000 [==============================] - 0s 56us/step - loss: 1.6312 - acc: 0.5077 - val_loss: 1.6154 - val_acc: 0.5310\n",
      "Epoch 10/50\n",
      "4000/4000 [==============================] - 0s 57us/step - loss: 1.6273 - acc: 0.5067 - val_loss: 1.5318 - val_acc: 0.5290\n",
      "Epoch 11/50\n",
      "4000/4000 [==============================] - 0s 56us/step - loss: 1.4689 - acc: 0.5720 - val_loss: 1.4167 - val_acc: 0.6060\n",
      "Epoch 12/50\n",
      "4000/4000 [==============================] - 0s 58us/step - loss: 1.4231 - acc: 0.6060 - val_loss: 1.6109 - val_acc: 0.4750\n",
      "Epoch 13/50\n",
      "4000/4000 [==============================] - 0s 58us/step - loss: 1.5447 - acc: 0.4905 - val_loss: 1.5914 - val_acc: 0.4150\n",
      "Epoch 14/50\n",
      "4000/4000 [==============================] - 0s 58us/step - loss: 1.5873 - acc: 0.4353 - val_loss: 1.5343 - val_acc: 0.5460\n",
      "Epoch 15/50\n",
      "4000/4000 [==============================] - 0s 59us/step - loss: 1.5197 - acc: 0.5612 - val_loss: 1.3801 - val_acc: 0.5600\n",
      "Epoch 16/50\n",
      "4000/4000 [==============================] - 0s 57us/step - loss: 1.3430 - acc: 0.5817 - val_loss: 1.2628 - val_acc: 0.6400\n",
      "Epoch 17/50\n",
      "4000/4000 [==============================] - 0s 57us/step - loss: 1.2789 - acc: 0.6180 - val_loss: 1.1563 - val_acc: 0.6670\n",
      "Epoch 18/50\n",
      "4000/4000 [==============================] - 0s 57us/step - loss: 1.1037 - acc: 0.7053 - val_loss: 1.0147 - val_acc: 0.7550\n",
      "Epoch 19/50\n",
      "4000/4000 [==============================] - 0s 58us/step - loss: 1.0141 - acc: 0.7487 - val_loss: 1.0255 - val_acc: 0.6990\n",
      "Epoch 20/50\n",
      "4000/4000 [==============================] - 0s 56us/step - loss: 0.9679 - acc: 0.7362 - val_loss: 0.9344 - val_acc: 0.7760\n",
      "Epoch 21/50\n",
      "4000/4000 [==============================] - 0s 56us/step - loss: 0.9219 - acc: 0.7910 - val_loss: 0.9606 - val_acc: 0.7270\n",
      "Epoch 22/50\n",
      "4000/4000 [==============================] - 0s 51us/step - loss: 0.8941 - acc: 0.7613 - val_loss: 0.9100 - val_acc: 0.7760\n",
      "Epoch 23/50\n",
      "4000/4000 [==============================] - 0s 51us/step - loss: 0.8899 - acc: 0.7890 - val_loss: 0.9596 - val_acc: 0.7350\n",
      "Epoch 24/50\n",
      "4000/4000 [==============================] - 0s 52us/step - loss: 0.8932 - acc: 0.7623 - val_loss: 1.0161 - val_acc: 0.7230\n",
      "Epoch 25/50\n",
      "4000/4000 [==============================] - 0s 51us/step - loss: 0.9962 - acc: 0.7268 - val_loss: 1.0973 - val_acc: 0.6690\n",
      "Epoch 26/50\n",
      "4000/4000 [==============================] - 0s 52us/step - loss: 1.0480 - acc: 0.6942 - val_loss: 1.3124 - val_acc: 0.5400\n",
      "Epoch 27/50\n",
      "4000/4000 [==============================] - 0s 51us/step - loss: 1.2865 - acc: 0.5645 - val_loss: 1.2858 - val_acc: 0.6130\n",
      "Epoch 28/50\n",
      "4000/4000 [==============================] - 0s 52us/step - loss: 1.2485 - acc: 0.6250 - val_loss: 0.9501 - val_acc: 0.6720\n",
      "Epoch 29/50\n",
      "4000/4000 [==============================] - 0s 52us/step - loss: 0.8960 - acc: 0.7120 - val_loss: 0.7503 - val_acc: 0.8140\n",
      "Epoch 30/50\n",
      "4000/4000 [==============================] - 0s 52us/step - loss: 0.7066 - acc: 0.8325 - val_loss: 0.7113 - val_acc: 0.8270\n",
      "Epoch 31/50\n",
      "4000/4000 [==============================] - 0s 51us/step - loss: 0.6469 - acc: 0.8580 - val_loss: 0.6720 - val_acc: 0.8390\n",
      "Epoch 32/50\n",
      "4000/4000 [==============================] - 0s 52us/step - loss: 0.6109 - acc: 0.8702 - val_loss: 0.6756 - val_acc: 0.8350\n",
      "Epoch 33/50\n",
      "4000/4000 [==============================] - 0s 51us/step - loss: 0.5940 - acc: 0.8685 - val_loss: 0.6494 - val_acc: 0.8420\n",
      "Epoch 34/50\n",
      "4000/4000 [==============================] - 0s 52us/step - loss: 0.5818 - acc: 0.8712 - val_loss: 0.6703 - val_acc: 0.8350\n",
      "Epoch 35/50\n",
      "4000/4000 [==============================] - 0s 51us/step - loss: 0.5802 - acc: 0.8658 - val_loss: 0.6438 - val_acc: 0.8290\n",
      "Epoch 36/50\n",
      "4000/4000 [==============================] - 0s 52us/step - loss: 0.5779 - acc: 0.8640 - val_loss: 0.6744 - val_acc: 0.8330\n",
      "Epoch 37/50\n",
      "4000/4000 [==============================] - 0s 52us/step - loss: 0.5802 - acc: 0.8618 - val_loss: 0.6398 - val_acc: 0.8220\n",
      "Epoch 38/50\n",
      "4000/4000 [==============================] - 0s 59us/step - loss: 0.5734 - acc: 0.8580 - val_loss: 0.6799 - val_acc: 0.8280\n",
      "Epoch 39/50\n",
      "4000/4000 [==============================] - 0s 57us/step - loss: 0.5726 - acc: 0.8565 - val_loss: 0.6146 - val_acc: 0.8270\n",
      "Epoch 40/50\n",
      "4000/4000 [==============================] - 0s 58us/step - loss: 0.5410 - acc: 0.8622 - val_loss: 0.6324 - val_acc: 0.8380\n",
      "Epoch 41/50\n",
      "4000/4000 [==============================] - 0s 59us/step - loss: 0.5302 - acc: 0.8687 - val_loss: 0.5854 - val_acc: 0.8470\n",
      "Epoch 42/50\n",
      "4000/4000 [==============================] - 0s 58us/step - loss: 0.4977 - acc: 0.8758 - val_loss: 0.6091 - val_acc: 0.8370\n",
      "Epoch 43/50\n",
      "4000/4000 [==============================] - 0s 58us/step - loss: 0.5038 - acc: 0.8758 - val_loss: 0.5819 - val_acc: 0.8450\n",
      "Epoch 44/50\n",
      "4000/4000 [==============================] - 0s 59us/step - loss: 0.4780 - acc: 0.8752 - val_loss: 0.5973 - val_acc: 0.8350\n",
      "Epoch 45/50\n",
      "4000/4000 [==============================] - 0s 57us/step - loss: 0.5003 - acc: 0.8705 - val_loss: 0.6135 - val_acc: 0.8330\n",
      "Epoch 46/50\n",
      "4000/4000 [==============================] - 0s 56us/step - loss: 0.5022 - acc: 0.8605 - val_loss: 0.6563 - val_acc: 0.8060\n",
      "Epoch 47/50\n",
      "4000/4000 [==============================] - 0s 58us/step - loss: 0.5663 - acc: 0.8395 - val_loss: 0.6988 - val_acc: 0.7930\n",
      "Epoch 48/50\n",
      "4000/4000 [==============================] - 0s 58us/step - loss: 0.5857 - acc: 0.8263 - val_loss: 0.6201 - val_acc: 0.8200\n",
      "Epoch 49/50\n",
      "4000/4000 [==============================] - 0s 58us/step - loss: 0.5166 - acc: 0.8508 - val_loss: 0.5782 - val_acc: 0.8290\n",
      "Epoch 50/50\n",
      "4000/4000 [==============================] - 0s 57us/step - loss: 0.4654 - acc: 0.8692 - val_loss: 0.5644 - val_acc: 0.8320\n"
     ]
    },
    {
     "data": {
      "image/png": "[encoded data removed]",
      "text/plain": [
       "<matplotlib.figure.Figure at 0x7face152ee80>"
      ]
     },
     "metadata": {},
     "output_type": "display_data"
    }
   ],
   "source": [
    "plot_history(model(n_hidden=25, batch_size=5000, learning_rate=1))\n",
    "plt.show()"
   ]
  },
  {
   "cell_type": "code",
   "execution_count": 23,
   "metadata": {},
   "outputs": [
    {
     "name": "stdout",
     "output_type": "stream",
     "text": [
      "0 = loss: 1.8207386 accuracy: 0.48\n",
      "10 = loss: 2.2679791 accuracy: 0.28\n",
      "20 = loss: 1.9061888 accuracy: 0.4\n",
      "30 = loss: 2.7039878 accuracy: 0.5\n",
      "40 = loss: 2.5018978 accuracy: 0.3\n",
      "50 = loss: 2.6616898 accuracy: 0.26\n",
      "60 = loss: 2.5107462 accuracy: 0.26\n",
      "70 = loss: 2.5334198 accuracy: 0.36\n",
      "80 = loss: 2.3277478 accuracy: 0.36\n",
      "90 = loss: 2.132747 accuracy: 0.3\n"
     ]
    }
   ],
   "source": [
    "plot_history(model(n_hidden=100, batch_size=50, learning_rate=1))\n",
    "plt.show()"
   ]
  },
  {
   "cell_type": "code",
   "execution_count": 24,
   "metadata": {},
   "outputs": [
    {
     "name": "stdout",
     "output_type": "stream",
     "text": [
      "0 = loss: 2.1943712 accuracy: 0.22\n",
      "10 = loss: 2.875095 accuracy: 0.1\n",
      "20 = loss: 2.6619177 accuracy: 0.22\n",
      "30 = loss: 3.1388614 accuracy: 0.14\n",
      "40 = loss: 3.2414048 accuracy: 0.16\n",
      "50 = loss: 2.321914 accuracy: 0.24\n",
      "60 = loss: 2.3933265 accuracy: 0.24\n",
      "70 = loss: 2.8015728 accuracy: 0.16\n",
      "80 = loss: 2.668131 accuracy: 0.24\n",
      "90 = loss: 2.5920825 accuracy: 0.24\n"
     ]
    }
   ],
   "source": [
    "plot_history(model(n_hidden=50, batch_size=50, learning_rate=1))\n",
    "plt.show()"
   ]
  },
  {
   "cell_type": "code",
   "execution_count": 25,
   "metadata": {},
   "outputs": [
    {
     "name": "stdout",
     "output_type": "stream",
     "text": [
      "0 = loss: 2.209177 accuracy: 0.2\n",
      "10 = loss: 2.3292477 accuracy: 0.22\n",
      "20 = loss: 2.329328 accuracy: 0.22\n",
      "30 = loss: 2.3289504 accuracy: 0.22\n",
      "40 = loss: 2.3245645 accuracy: 0.22\n",
      "50 = loss: 2.3187482 accuracy: 0.22\n",
      "60 = loss: 2.3162932 accuracy: 0.22\n",
      "70 = loss: 2.3152466 accuracy: 0.22\n",
      "80 = loss: 2.3147097 accuracy: 0.22\n",
      "90 = loss: 2.314393 accuracy: 0.22\n"
     ]
    }
   ],
   "source": [
    "plot_history(model(n_hidden=25, batch_size=50, learning_rate=1))\n",
    "plt.show()"
   ]
  },
  {
   "cell_type": "code",
   "execution_count": 26,
   "metadata": {},
   "outputs": [
    {
     "name": "stdout",
     "output_type": "stream",
     "text": [
      "0 = loss: 2.6234744 accuracy: 0.32\n",
      "10 = loss: 8.466247 accuracy: 0.2\n",
      "20 = loss: 7.186866 accuracy: 0.16\n",
      "30 = loss: 3.835947 accuracy: 0.16\n",
      "40 = loss: 6.107141 accuracy: 0.16\n",
      "50 = loss: 9.905339 accuracy: 0.2\n",
      "60 = loss: 9.923687 accuracy: 0.2\n",
      "70 = loss: 11.797567 accuracy: 0.2\n",
      "80 = loss: 9.673529 accuracy: 0.2\n",
      "90 = loss: 7.5753508 accuracy: 0.2\n"
     ]
    }
   ],
   "source": [
    "plot_history(model(n_hidden=100, batch_size=25, learning_rate=1))\n",
    "plt.show()"
   ]
  },
  {
   "cell_type": "code",
   "execution_count": 27,
   "metadata": {},
   "outputs": [
    {
     "name": "stdout",
     "output_type": "stream",
     "text": [
      "0 = loss: 2.307139 accuracy: 0.2\n",
      "10 = loss: 2.4223511 accuracy: 0.12\n",
      "20 = loss: 2.495226 accuracy: 0.12\n",
      "30 = loss: 2.4976053 accuracy: 0.12\n",
      "40 = loss: 2.4973907 accuracy: 0.12\n",
      "50 = loss: 2.4966378 accuracy: 0.12\n",
      "60 = loss: 2.4958906 accuracy: 0.12\n",
      "70 = loss: 2.4952607 accuracy: 0.12\n",
      "80 = loss: 2.4947605 accuracy: 0.12\n",
      "90 = loss: 2.4943726 accuracy: 0.12\n"
     ]
    }
   ],
   "source": [
    "plot_history(model(n_hidden=50, batch_size=25, learning_rate=1))\n",
    "plt.show()"
   ]
  },
  {
   "cell_type": "code",
   "execution_count": 28,
   "metadata": {},
   "outputs": [
    {
     "name": "stdout",
     "output_type": "stream",
     "text": [
      "0 = loss: 2.3853724 accuracy: 0.16\n",
      "10 = loss: 2.3054247 accuracy: 0.2\n",
      "20 = loss: 2.2900925 accuracy: 0.2\n",
      "30 = loss: 2.2849288 accuracy: 0.2\n",
      "40 = loss: 2.2826433 accuracy: 0.2\n",
      "50 = loss: 2.281351 accuracy: 0.2\n",
      "60 = loss: 2.2805133 accuracy: 0.2\n",
      "70 = loss: 2.2799332 accuracy: 0.2\n",
      "80 = loss: 2.3074872 accuracy: 0.2\n",
      "90 = loss: 2.307221 accuracy: 0.2\n"
     ]
    }
   ],
   "source": [
    "plot_history(model(n_hidden=25, batch_size=25, learning_rate=1))\n",
    "plt.show()"
   ]
  },
  {
   "cell_type": "code",
   "execution_count": null,
   "metadata": {},
   "outputs": [
    {
     "name": "stdout",
     "output_type": "stream",
     "text": [
      "Train on 4000 samples, validate on 1000 samples\n",
      "Epoch 1/50\n",
      "4000/4000 [==============================] - 35s 9ms/step - loss: 14.6197 - acc: 0.0927 - val_loss: 14.7642 - val_acc: 0.0840\n",
      "Epoch 2/50\n",
      "4000/4000 [==============================] - 31s 8ms/step - loss: 14.6191 - acc: 0.0930 - val_loss: 14.7642 - val_acc: 0.0840\n",
      "Epoch 3/50\n",
      "4000/4000 [==============================] - 31s 8ms/step - loss: 14.6191 - acc: 0.0930 - val_loss: 14.7642 - val_acc: 0.0840\n",
      "Epoch 4/50\n",
      "4000/4000 [==============================] - 30s 8ms/step - loss: 14.6191 - acc: 0.0930 - val_loss: 14.7642 - val_acc: 0.0840\n",
      "Epoch 5/50\n",
      "4000/4000 [==============================] - 32s 8ms/step - loss: 14.6191 - acc: 0.0930 - val_loss: 14.7642 - val_acc: 0.0840\n",
      "Epoch 6/50\n",
      "4000/4000 [==============================] - 33s 8ms/step - loss: 14.6191 - acc: 0.0930 - val_loss: 14.7642 - val_acc: 0.0840\n",
      "Epoch 7/50\n",
      "4000/4000 [==============================] - 31s 8ms/step - loss: 14.6191 - acc: 0.0930 - val_loss: 14.7642 - val_acc: 0.0840\n",
      "Epoch 8/50\n",
      "4000/4000 [==============================] - 31s 8ms/step - loss: 14.6191 - acc: 0.0930 - val_loss: 14.7642 - val_acc: 0.0840\n",
      "Epoch 9/50\n",
      "4000/4000 [==============================] - 31s 8ms/step - loss: 14.6191 - acc: 0.0930 - val_loss: 14.7642 - val_acc: 0.0840\n",
      "Epoch 10/50\n",
      "4000/4000 [==============================] - 31s 8ms/step - loss: 14.6191 - acc: 0.0930 - val_loss: 14.7642 - val_acc: 0.0840\n",
      "Epoch 11/50\n",
      "4000/4000 [==============================] - 31s 8ms/step - loss: 14.6191 - acc: 0.0930 - val_loss: 14.7642 - val_acc: 0.0840\n",
      "Epoch 12/50\n",
      "4000/4000 [==============================] - 31s 8ms/step - loss: 14.6191 - acc: 0.0930 - val_loss: 14.7642 - val_acc: 0.0840\n",
      "Epoch 13/50\n",
      "4000/4000 [==============================] - 31s 8ms/step - loss: 14.6191 - acc: 0.0930 - val_loss: 14.7642 - val_acc: 0.0840\n",
      "Epoch 14/50\n",
      "4000/4000 [==============================] - 31s 8ms/step - loss: 14.6191 - acc: 0.0930 - val_loss: 14.7642 - val_acc: 0.0840\n",
      "Epoch 15/50\n",
      "4000/4000 [==============================] - 31s 8ms/step - loss: 14.6191 - acc: 0.0930 - val_loss: 14.7642 - val_acc: 0.0840\n",
      "Epoch 16/50\n",
      "4000/4000 [==============================] - 31s 8ms/step - loss: 14.6191 - acc: 0.0930 - val_loss: 14.7642 - val_acc: 0.0840\n",
      "Epoch 17/50\n",
      "4000/4000 [==============================] - 31s 8ms/step - loss: 14.6191 - acc: 0.0930 - val_loss: 14.7642 - val_acc: 0.0840\n",
      "Epoch 18/50\n",
      "4000/4000 [==============================] - 31s 8ms/step - loss: 14.6191 - acc: 0.0930 - val_loss: 14.7642 - val_acc: 0.0840\n",
      "Epoch 19/50\n",
      "4000/4000 [==============================] - 31s 8ms/step - loss: 14.6191 - acc: 0.0930 - val_loss: 14.7642 - val_acc: 0.0840\n",
      "Epoch 20/50\n",
      "4000/4000 [==============================] - 31s 8ms/step - loss: 14.6191 - acc: 0.0930 - val_loss: 14.7642 - val_acc: 0.0840\n",
      "Epoch 21/50\n",
      "4000/4000 [==============================] - 35s 9ms/step - loss: 14.6191 - acc: 0.0930 - val_loss: 14.7642 - val_acc: 0.0840\n",
      "Epoch 22/50\n",
      "1875/4000 [=============>................] - ETA: 17s - loss: 14.5020 - acc: 0.1003"
     ]
    }
   ],
   "source": [
    "plot_history(model(n_hidden=100, batch_size=1, learning_rate=1))\n",
    "plt.show()"
   ]
  },
  {
   "cell_type": "code",
   "execution_count": null,
   "metadata": {
    "collapsed": true
   },
   "outputs": [],
   "source": [
    "plot_history(model(n_hidden=50, batch_size=1, learning_rate=1))\n",
    "plt.show()"
   ]
  },
  {
   "cell_type": "code",
   "execution_count": null,
   "metadata": {
    "collapsed": true
   },
   "outputs": [],
   "source": [
    "plot_history(model(n_hidden=25, batch_size=1, learning_rate=1))\n",
    "plt.show()"
   ]
  },
  {
   "cell_type": "code",
   "execution_count": 7,
   "metadata": {},
   "outputs": [
    {
     "name": "stdout",
     "output_type": "stream",
     "text": [
      "Train on 4000 samples, validate on 1000 samples\n",
      "Epoch 1/50\n",
      "4000/4000 [==============================] - 0s 86us/step - loss: 2.5223 - acc: 0.1015 - val_loss: 2.5567 - val_acc: 0.1880\n",
      "Epoch 2/50\n",
      "4000/4000 [==============================] - 0s 55us/step - loss: 2.4851 - acc: 0.1852 - val_loss: 2.3405 - val_acc: 0.2430\n",
      "Epoch 3/50\n",
      "4000/4000 [==============================] - 0s 55us/step - loss: 2.3121 - acc: 0.2498 - val_loss: 2.2136 - val_acc: 0.3010\n",
      "Epoch 4/50\n",
      "4000/4000 [==============================] - 0s 56us/step - loss: 2.1929 - acc: 0.3262 - val_loss: 1.8023 - val_acc: 0.4670\n",
      "Epoch 5/50\n",
      "4000/4000 [==============================] - 0s 56us/step - loss: 1.7850 - acc: 0.4723 - val_loss: 1.6903 - val_acc: 0.5470\n",
      "Epoch 6/50\n",
      "4000/4000 [==============================] - 0s 62us/step - loss: 1.6819 - acc: 0.5680 - val_loss: 1.6104 - val_acc: 0.5420\n",
      "Epoch 7/50\n",
      "4000/4000 [==============================] - 0s 56us/step - loss: 1.5616 - acc: 0.5740 - val_loss: 1.6051 - val_acc: 0.5270\n",
      "Epoch 8/50\n",
      "4000/4000 [==============================] - 0s 57us/step - loss: 1.6133 - acc: 0.5120 - val_loss: 1.7464 - val_acc: 0.4980\n",
      "Epoch 9/50\n",
      "4000/4000 [==============================] - 0s 55us/step - loss: 1.6427 - acc: 0.5408 - val_loss: 1.5046 - val_acc: 0.5340\n",
      "Epoch 10/50\n",
      "4000/4000 [==============================] - 0s 57us/step - loss: 1.5015 - acc: 0.5145 - val_loss: 1.4287 - val_acc: 0.5860\n",
      "Epoch 11/50\n",
      "4000/4000 [==============================] - 0s 55us/step - loss: 1.3528 - acc: 0.6205 - val_loss: 1.1477 - val_acc: 0.7080\n",
      "Epoch 12/50\n",
      "4000/4000 [==============================] - 0s 58us/step - loss: 1.1395 - acc: 0.7045 - val_loss: 1.1240 - val_acc: 0.6740\n",
      "Epoch 13/50\n",
      "4000/4000 [==============================] - 0s 79us/step - loss: 1.0565 - acc: 0.7287 - val_loss: 1.0342 - val_acc: 0.7270\n",
      "Epoch 14/50\n",
      "4000/4000 [==============================] - 0s 84us/step - loss: 1.0146 - acc: 0.7220 - val_loss: 1.0604 - val_acc: 0.6720\n",
      "Epoch 15/50\n",
      "4000/4000 [==============================] - 0s 79us/step - loss: 0.9802 - acc: 0.7212 - val_loss: 0.9927 - val_acc: 0.7090\n",
      "Epoch 16/50\n",
      "4000/4000 [==============================] - 0s 80us/step - loss: 0.9728 - acc: 0.7105 - val_loss: 1.0385 - val_acc: 0.6430\n",
      "Epoch 17/50\n",
      "4000/4000 [==============================] - 0s 61us/step - loss: 0.9460 - acc: 0.6920 - val_loss: 0.9566 - val_acc: 0.7100\n",
      "Epoch 18/50\n",
      "4000/4000 [==============================] - 0s 57us/step - loss: 0.9344 - acc: 0.7080 - val_loss: 0.9437 - val_acc: 0.6910\n",
      "Epoch 19/50\n",
      "4000/4000 [==============================] - 0s 58us/step - loss: 0.8453 - acc: 0.7372 - val_loss: 0.8318 - val_acc: 0.7590\n",
      "Epoch 20/50\n",
      "4000/4000 [==============================] - 0s 56us/step - loss: 0.7899 - acc: 0.7660 - val_loss: 0.8360 - val_acc: 0.7470\n",
      "Epoch 21/50\n",
      "4000/4000 [==============================] - 0s 55us/step - loss: 0.7305 - acc: 0.7947 - val_loss: 0.7618 - val_acc: 0.7800\n",
      "Epoch 22/50\n",
      "4000/4000 [==============================] - 0s 57us/step - loss: 0.7055 - acc: 0.7960 - val_loss: 0.8163 - val_acc: 0.7450\n",
      "Epoch 23/50\n",
      "4000/4000 [==============================] - 0s 56us/step - loss: 0.6996 - acc: 0.8010 - val_loss: 0.7592 - val_acc: 0.7660\n",
      "Epoch 24/50\n",
      "4000/4000 [==============================] - 0s 85us/step - loss: 0.6914 - acc: 0.7828 - val_loss: 0.8520 - val_acc: 0.7310\n",
      "Epoch 25/50\n",
      "4000/4000 [==============================] - 0s 59us/step - loss: 0.7285 - acc: 0.7820 - val_loss: 0.8269 - val_acc: 0.7360\n",
      "Epoch 26/50\n",
      "4000/4000 [==============================] - 0s 77us/step - loss: 0.7426 - acc: 0.7632 - val_loss: 0.7869 - val_acc: 0.7390\n",
      "Epoch 27/50\n",
      "4000/4000 [==============================] - 0s 55us/step - loss: 0.6750 - acc: 0.7872 - val_loss: 0.7699 - val_acc: 0.7600\n",
      "Epoch 28/50\n",
      "4000/4000 [==============================] - 0s 56us/step - loss: 0.6681 - acc: 0.8060 - val_loss: 0.6817 - val_acc: 0.8040\n",
      "Epoch 29/50\n",
      "4000/4000 [==============================] - 0s 56us/step - loss: 0.5845 - acc: 0.8457 - val_loss: 0.6749 - val_acc: 0.8090\n",
      "Epoch 30/50\n",
      "4000/4000 [==============================] - 0s 57us/step - loss: 0.5671 - acc: 0.8515 - val_loss: 0.6262 - val_acc: 0.8380\n",
      "Epoch 31/50\n",
      "4000/4000 [==============================] - 0s 55us/step - loss: 0.5221 - acc: 0.8720 - val_loss: 0.6273 - val_acc: 0.8310\n",
      "Epoch 32/50\n",
      "4000/4000 [==============================] - 0s 57us/step - loss: 0.5094 - acc: 0.8780 - val_loss: 0.5912 - val_acc: 0.8460\n",
      "Epoch 33/50\n",
      "4000/4000 [==============================] - 0s 55us/step - loss: 0.4821 - acc: 0.8875 - val_loss: 0.5906 - val_acc: 0.8460\n",
      "Epoch 34/50\n",
      "4000/4000 [==============================] - 0s 56us/step - loss: 0.4657 - acc: 0.8955 - val_loss: 0.5673 - val_acc: 0.8570\n",
      "Epoch 35/50\n",
      "4000/4000 [==============================] - 0s 55us/step - loss: 0.4463 - acc: 0.9003 - val_loss: 0.5667 - val_acc: 0.8530\n",
      "Epoch 36/50\n",
      "4000/4000 [==============================] - 0s 59us/step - loss: 0.4335 - acc: 0.9055 - val_loss: 0.5511 - val_acc: 0.8540\n",
      "Epoch 37/50\n",
      "4000/4000 [==============================] - 0s 53us/step - loss: 0.4271 - acc: 0.9035 - val_loss: 0.5552 - val_acc: 0.8540\n",
      "Epoch 38/50\n",
      "4000/4000 [==============================] - 0s 55us/step - loss: 0.4170 - acc: 0.9070 - val_loss: 0.5481 - val_acc: 0.8510\n",
      "Epoch 39/50\n",
      "4000/4000 [==============================] - 0s 54us/step - loss: 0.4198 - acc: 0.9022 - val_loss: 0.5529 - val_acc: 0.8490\n",
      "Epoch 40/50\n",
      "4000/4000 [==============================] - 0s 55us/step - loss: 0.4128 - acc: 0.9072 - val_loss: 0.5584 - val_acc: 0.8380\n",
      "Epoch 41/50\n",
      "4000/4000 [==============================] - 0s 54us/step - loss: 0.4209 - acc: 0.8930 - val_loss: 0.5448 - val_acc: 0.8440\n",
      "Epoch 42/50\n",
      "4000/4000 [==============================] - 0s 55us/step - loss: 0.4112 - acc: 0.9035 - val_loss: 0.5901 - val_acc: 0.8230\n",
      "Epoch 43/50\n",
      "4000/4000 [==============================] - 0s 55us/step - loss: 0.4378 - acc: 0.8777 - val_loss: 0.5692 - val_acc: 0.8270\n",
      "Epoch 44/50\n",
      "4000/4000 [==============================] - 0s 55us/step - loss: 0.4485 - acc: 0.8790 - val_loss: 0.7126 - val_acc: 0.7530\n",
      "Epoch 45/50\n",
      "4000/4000 [==============================] - 0s 54us/step - loss: 0.5311 - acc: 0.8158 - val_loss: 0.6710 - val_acc: 0.7710\n",
      "Epoch 46/50\n",
      "4000/4000 [==============================] - 0s 55us/step - loss: 0.5847 - acc: 0.8055 - val_loss: 0.9287 - val_acc: 0.6990\n",
      "Epoch 47/50\n",
      "4000/4000 [==============================] - 0s 53us/step - loss: 0.7129 - acc: 0.7517 - val_loss: 0.5881 - val_acc: 0.8200\n",
      "Epoch 48/50\n",
      "4000/4000 [==============================] - 0s 56us/step - loss: 0.4937 - acc: 0.8503 - val_loss: 0.6376 - val_acc: 0.8000\n",
      "Epoch 49/50\n",
      "4000/4000 [==============================] - 0s 55us/step - loss: 0.4553 - acc: 0.8595 - val_loss: 0.4768 - val_acc: 0.8610\n",
      "Epoch 50/50\n",
      "4000/4000 [==============================] - 0s 55us/step - loss: 0.3559 - acc: 0.9122 - val_loss: 0.4975 - val_acc: 0.8540\n"
     ]
    },
    {
     "data": {
      "image/png": "[encoded data removed]",
      "text/plain": [
       "<matplotlib.figure.Figure at 0x7fad1eb28e48>"
      ]
     },
     "metadata": {},
     "output_type": "display_data"
    }
   ],
   "source": [
    "plot_history(model(n_hidden=100, batch_size=5000, learning_rate=0.5))\n",
    "plt.show()"
   ]
  },
  {
   "cell_type": "code",
   "execution_count": 8,
   "metadata": {},
   "outputs": [
    {
     "name": "stdout",
     "output_type": "stream",
     "text": [
      "Train on 4000 samples, validate on 1000 samples\n",
      "Epoch 1/50\n",
      "4000/4000 [==============================] - 0s 97us/step - loss: 2.4582 - acc: 0.0957 - val_loss: 2.2642 - val_acc: 0.2230\n",
      "Epoch 2/50\n",
      "4000/4000 [==============================] - 0s 61us/step - loss: 2.2397 - acc: 0.2192 - val_loss: 1.9890 - val_acc: 0.4080\n",
      "Epoch 3/50\n",
      "4000/4000 [==============================] - 0s 59us/step - loss: 1.9740 - acc: 0.4212 - val_loss: 1.8144 - val_acc: 0.4820\n",
      "Epoch 4/50\n",
      "4000/4000 [==============================] - 0s 60us/step - loss: 1.8020 - acc: 0.5203 - val_loss: 1.7069 - val_acc: 0.5790\n",
      "Epoch 5/50\n",
      "4000/4000 [==============================] - 0s 59us/step - loss: 1.6952 - acc: 0.5815 - val_loss: 1.6806 - val_acc: 0.4590\n",
      "Epoch 6/50\n",
      "4000/4000 [==============================] - 0s 60us/step - loss: 1.6637 - acc: 0.4712 - val_loss: 1.7874 - val_acc: 0.4380\n",
      "Epoch 7/50\n",
      "4000/4000 [==============================] - 0s 60us/step - loss: 1.7568 - acc: 0.4415 - val_loss: 1.6269 - val_acc: 0.5570\n",
      "Epoch 8/50\n",
      "4000/4000 [==============================] - 0s 59us/step - loss: 1.6006 - acc: 0.5623 - val_loss: 1.5493 - val_acc: 0.6110\n",
      "Epoch 9/50\n",
      "4000/4000 [==============================] - 0s 57us/step - loss: 1.4991 - acc: 0.6463 - val_loss: 1.4674 - val_acc: 0.5720\n",
      "Epoch 10/50\n",
      "4000/4000 [==============================] - 0s 53us/step - loss: 1.4348 - acc: 0.6112 - val_loss: 1.4468 - val_acc: 0.5690\n",
      "Epoch 11/50\n",
      "4000/4000 [==============================] - 0s 53us/step - loss: 1.4247 - acc: 0.5850 - val_loss: 1.4635 - val_acc: 0.5640\n",
      "Epoch 12/50\n",
      "4000/4000 [==============================] - 0s 54us/step - loss: 1.4241 - acc: 0.5943 - val_loss: 1.2568 - val_acc: 0.6640\n",
      "Epoch 13/50\n",
      "4000/4000 [==============================] - 0s 54us/step - loss: 1.2433 - acc: 0.6730 - val_loss: 1.1609 - val_acc: 0.7340\n",
      "Epoch 14/50\n",
      "4000/4000 [==============================] - 0s 56us/step - loss: 1.1154 - acc: 0.7793 - val_loss: 1.0675 - val_acc: 0.7600\n",
      "Epoch 15/50\n",
      "4000/4000 [==============================] - 0s 54us/step - loss: 1.0355 - acc: 0.7872 - val_loss: 1.0174 - val_acc: 0.7990\n",
      "Epoch 16/50\n",
      "4000/4000 [==============================] - 0s 58us/step - loss: 0.9649 - acc: 0.8310 - val_loss: 0.9674 - val_acc: 0.7900\n",
      "Epoch 17/50\n",
      "4000/4000 [==============================] - 0s 53us/step - loss: 0.9195 - acc: 0.8225 - val_loss: 0.9402 - val_acc: 0.8100\n",
      "Epoch 18/50\n",
      "4000/4000 [==============================] - 0s 54us/step - loss: 0.8793 - acc: 0.8533 - val_loss: 0.9094 - val_acc: 0.8020\n",
      "Epoch 19/50\n",
      "4000/4000 [==============================] - 0s 54us/step - loss: 0.8491 - acc: 0.8353 - val_loss: 0.8859 - val_acc: 0.8110\n",
      "Epoch 20/50\n",
      "4000/4000 [==============================] - 0s 54us/step - loss: 0.8188 - acc: 0.8572 - val_loss: 0.8698 - val_acc: 0.7950\n",
      "Epoch 21/50\n",
      "4000/4000 [==============================] - 0s 54us/step - loss: 0.7974 - acc: 0.8342 - val_loss: 0.8429 - val_acc: 0.8070\n",
      "Epoch 22/50\n",
      "4000/4000 [==============================] - 0s 54us/step - loss: 0.7742 - acc: 0.8522 - val_loss: 0.8481 - val_acc: 0.7810\n",
      "Epoch 23/50\n",
      "4000/4000 [==============================] - 0s 53us/step - loss: 0.7636 - acc: 0.8192 - val_loss: 0.8173 - val_acc: 0.7920\n",
      "Epoch 24/50\n",
      "4000/4000 [==============================] - 0s 54us/step - loss: 0.7477 - acc: 0.8388 - val_loss: 0.8400 - val_acc: 0.7560\n",
      "Epoch 25/50\n",
      "4000/4000 [==============================] - 0s 59us/step - loss: 0.7456 - acc: 0.8052 - val_loss: 0.7895 - val_acc: 0.7860\n",
      "Epoch 26/50\n",
      "4000/4000 [==============================] - 0s 61us/step - loss: 0.7190 - acc: 0.8260 - val_loss: 0.8315 - val_acc: 0.7380\n",
      "Epoch 27/50\n",
      "4000/4000 [==============================] - 0s 59us/step - loss: 0.7253 - acc: 0.7943 - val_loss: 0.7583 - val_acc: 0.7940\n",
      "Epoch 28/50\n",
      "4000/4000 [==============================] - 0s 61us/step - loss: 0.6826 - acc: 0.8292 - val_loss: 0.7899 - val_acc: 0.7600\n",
      "Epoch 29/50\n",
      "4000/4000 [==============================] - 0s 60us/step - loss: 0.6731 - acc: 0.8170 - val_loss: 0.7112 - val_acc: 0.8190\n",
      "Epoch 30/50\n",
      "4000/4000 [==============================] - 0s 60us/step - loss: 0.6268 - acc: 0.8530 - val_loss: 0.7167 - val_acc: 0.8050\n",
      "Epoch 31/50\n",
      "4000/4000 [==============================] - 0s 62us/step - loss: 0.6029 - acc: 0.8537 - val_loss: 0.6720 - val_acc: 0.8440\n",
      "Epoch 32/50\n",
      "4000/4000 [==============================] - 0s 60us/step - loss: 0.5773 - acc: 0.8777 - val_loss: 0.6756 - val_acc: 0.8290\n",
      "Epoch 33/50\n",
      "4000/4000 [==============================] - 0s 60us/step - loss: 0.5617 - acc: 0.8723 - val_loss: 0.6520 - val_acc: 0.8410\n",
      "Epoch 34/50\n",
      "4000/4000 [==============================] - 0s 60us/step - loss: 0.5476 - acc: 0.8827 - val_loss: 0.6492 - val_acc: 0.8300\n",
      "Epoch 35/50\n",
      "4000/4000 [==============================] - 0s 60us/step - loss: 0.5341 - acc: 0.8817 - val_loss: 0.6490 - val_acc: 0.8370\n",
      "Epoch 36/50\n",
      "4000/4000 [==============================] - 0s 63us/step - loss: 0.5368 - acc: 0.8800 - val_loss: 0.6599 - val_acc: 0.8180\n",
      "Epoch 37/50\n",
      "4000/4000 [==============================] - 0s 57us/step - loss: 0.5453 - acc: 0.8658 - val_loss: 0.6805 - val_acc: 0.7980\n",
      "Epoch 38/50\n",
      "4000/4000 [==============================] - 0s 60us/step - loss: 0.5674 - acc: 0.8580 - val_loss: 0.7112 - val_acc: 0.7810\n",
      "Epoch 39/50\n",
      "4000/4000 [==============================] - 0s 53us/step - loss: 0.6017 - acc: 0.8255 - val_loss: 0.7198 - val_acc: 0.7850\n",
      "Epoch 40/50\n",
      "4000/4000 [==============================] - 0s 52us/step - loss: 0.5995 - acc: 0.8270 - val_loss: 0.7202 - val_acc: 0.7770\n",
      "Epoch 41/50\n",
      "4000/4000 [==============================] - 0s 52us/step - loss: 0.6098 - acc: 0.8152 - val_loss: 0.6676 - val_acc: 0.7960\n",
      "Epoch 42/50\n",
      "4000/4000 [==============================] - 0s 52us/step - loss: 0.5377 - acc: 0.8528 - val_loss: 0.6199 - val_acc: 0.8090\n",
      "Epoch 43/50\n",
      "4000/4000 [==============================] - 0s 52us/step - loss: 0.5054 - acc: 0.8692 - val_loss: 0.5830 - val_acc: 0.8220\n",
      "Epoch 44/50\n",
      "4000/4000 [==============================] - 0s 52us/step - loss: 0.4532 - acc: 0.8928 - val_loss: 0.5529 - val_acc: 0.8470\n",
      "Epoch 45/50\n",
      "4000/4000 [==============================] - 0s 52us/step - loss: 0.4261 - acc: 0.9055 - val_loss: 0.5430 - val_acc: 0.8470\n",
      "Epoch 46/50\n",
      "4000/4000 [==============================] - 0s 52us/step - loss: 0.4048 - acc: 0.9172 - val_loss: 0.5258 - val_acc: 0.8630\n",
      "Epoch 47/50\n",
      "4000/4000 [==============================] - 0s 52us/step - loss: 0.3902 - acc: 0.9197 - val_loss: 0.5214 - val_acc: 0.8590\n",
      "Epoch 48/50\n",
      "4000/4000 [==============================] - 0s 52us/step - loss: 0.3797 - acc: 0.9255 - val_loss: 0.5131 - val_acc: 0.8670\n",
      "Epoch 49/50\n",
      "4000/4000 [==============================] - 0s 51us/step - loss: 0.3685 - acc: 0.9240 - val_loss: 0.5066 - val_acc: 0.8650\n",
      "Epoch 50/50\n",
      "4000/4000 [==============================] - 0s 52us/step - loss: 0.3596 - acc: 0.9298 - val_loss: 0.4988 - val_acc: 0.8730\n"
     ]
    },
    {
     "data": {
      "image/png": "[encoded data removed]",
      "text/plain": [
       "<matplotlib.figure.Figure at 0x7fad1e86ff60>"
      ]
     },
     "metadata": {},
     "output_type": "display_data"
    }
   ],
   "source": [
    "plot_history(model(n_hidden=50, batch_size=5000, learning_rate=0.5))\n",
    "plt.show()"
   ]
  },
  {
   "cell_type": "code",
   "execution_count": 9,
   "metadata": {},
   "outputs": [
    {
     "name": "stdout",
     "output_type": "stream",
     "text": [
      "Train on 4000 samples, validate on 1000 samples\n",
      "Epoch 1/50\n",
      "4000/4000 [==============================] - 0s 89us/step - loss: 2.5096 - acc: 0.0728 - val_loss: 2.2212 - val_acc: 0.1640\n",
      "Epoch 2/50\n",
      "4000/4000 [==============================] - 0s 52us/step - loss: 2.2315 - acc: 0.1708 - val_loss: 2.0481 - val_acc: 0.4210\n",
      "Epoch 3/50\n",
      "4000/4000 [==============================] - 0s 59us/step - loss: 2.0445 - acc: 0.4295 - val_loss: 1.9471 - val_acc: 0.3940\n",
      "Epoch 4/50\n",
      "4000/4000 [==============================] - 0s 59us/step - loss: 1.9199 - acc: 0.4453 - val_loss: 1.8836 - val_acc: 0.4680\n",
      "Epoch 5/50\n",
      "4000/4000 [==============================] - 0s 58us/step - loss: 1.8792 - acc: 0.4915 - val_loss: 1.9112 - val_acc: 0.2800\n",
      "Epoch 6/50\n",
      "4000/4000 [==============================] - 0s 60us/step - loss: 1.8685 - acc: 0.3142 - val_loss: 1.9012 - val_acc: 0.5070\n",
      "Epoch 7/50\n",
      "4000/4000 [==============================] - 0s 58us/step - loss: 1.9133 - acc: 0.5135 - val_loss: 1.6822 - val_acc: 0.5890\n",
      "Epoch 8/50\n",
      "4000/4000 [==============================] - 0s 59us/step - loss: 1.6586 - acc: 0.6070 - val_loss: 1.5847 - val_acc: 0.6110\n",
      "Epoch 9/50\n",
      "4000/4000 [==============================] - 0s 59us/step - loss: 1.5515 - acc: 0.6568 - val_loss: 1.5224 - val_acc: 0.6600\n",
      "Epoch 10/50\n",
      "4000/4000 [==============================] - 0s 60us/step - loss: 1.5023 - acc: 0.6802 - val_loss: 1.5179 - val_acc: 0.5920\n",
      "Epoch 11/50\n",
      "4000/4000 [==============================] - 0s 58us/step - loss: 1.4718 - acc: 0.6407 - val_loss: 1.4859 - val_acc: 0.6270\n",
      "Epoch 12/50\n",
      "4000/4000 [==============================] - 0s 61us/step - loss: 1.4783 - acc: 0.6360 - val_loss: 1.4756 - val_acc: 0.5800\n",
      "Epoch 13/50\n",
      "4000/4000 [==============================] - 0s 56us/step - loss: 1.4242 - acc: 0.6340 - val_loss: 1.4118 - val_acc: 0.6710\n",
      "Epoch 14/50\n",
      "4000/4000 [==============================] - 0s 61us/step - loss: 1.4018 - acc: 0.6877 - val_loss: 1.3637 - val_acc: 0.6740\n",
      "Epoch 15/50\n",
      "4000/4000 [==============================] - 0s 57us/step - loss: 1.3134 - acc: 0.7172 - val_loss: 1.2971 - val_acc: 0.7550\n",
      "Epoch 16/50\n",
      "4000/4000 [==============================] - 0s 59us/step - loss: 1.2701 - acc: 0.7810 - val_loss: 1.2637 - val_acc: 0.7220\n",
      "Epoch 17/50\n",
      "4000/4000 [==============================] - 0s 56us/step - loss: 1.2131 - acc: 0.7725 - val_loss: 1.2112 - val_acc: 0.7760\n",
      "Epoch 18/50\n",
      "4000/4000 [==============================] - 0s 53us/step - loss: 1.1725 - acc: 0.8210 - val_loss: 1.1813 - val_acc: 0.7460\n",
      "Epoch 19/50\n",
      "4000/4000 [==============================] - 0s 53us/step - loss: 1.1255 - acc: 0.7905 - val_loss: 1.1344 - val_acc: 0.8000\n",
      "Epoch 20/50\n",
      "4000/4000 [==============================] - 0s 56us/step - loss: 1.0861 - acc: 0.8380 - val_loss: 1.1084 - val_acc: 0.7610\n",
      "Epoch 21/50\n",
      "4000/4000 [==============================] - 0s 52us/step - loss: 1.0439 - acc: 0.8055 - val_loss: 1.0690 - val_acc: 0.8100\n",
      "Epoch 22/50\n",
      "4000/4000 [==============================] - 0s 53us/step - loss: 1.0147 - acc: 0.8487 - val_loss: 1.0666 - val_acc: 0.7600\n",
      "Epoch 23/50\n",
      "4000/4000 [==============================] - 0s 52us/step - loss: 0.9944 - acc: 0.8023 - val_loss: 1.0414 - val_acc: 0.8000\n",
      "Epoch 24/50\n",
      "4000/4000 [==============================] - 0s 53us/step - loss: 0.9921 - acc: 0.8360 - val_loss: 1.0602 - val_acc: 0.7480\n",
      "Epoch 25/50\n",
      "4000/4000 [==============================] - 0s 52us/step - loss: 0.9831 - acc: 0.7825 - val_loss: 1.0514 - val_acc: 0.7720\n",
      "Epoch 26/50\n",
      "4000/4000 [==============================] - 0s 54us/step - loss: 1.0043 - acc: 0.8077 - val_loss: 1.0253 - val_acc: 0.7540\n",
      "Epoch 27/50\n",
      "4000/4000 [==============================] - 0s 52us/step - loss: 0.9463 - acc: 0.7962 - val_loss: 0.9835 - val_acc: 0.7850\n",
      "Epoch 28/50\n",
      "4000/4000 [==============================] - 0s 53us/step - loss: 0.9272 - acc: 0.8248 - val_loss: 0.9374 - val_acc: 0.7940\n",
      "Epoch 29/50\n",
      "4000/4000 [==============================] - 0s 52us/step - loss: 0.8565 - acc: 0.8457 - val_loss: 0.8982 - val_acc: 0.8110\n",
      "Epoch 30/50\n",
      "4000/4000 [==============================] - 0s 53us/step - loss: 0.8234 - acc: 0.8590 - val_loss: 0.8593 - val_acc: 0.8330\n",
      "Epoch 31/50\n",
      "4000/4000 [==============================] - 0s 55us/step - loss: 0.7747 - acc: 0.8840 - val_loss: 0.8360 - val_acc: 0.8240\n",
      "Epoch 32/50\n",
      "4000/4000 [==============================] - 0s 53us/step - loss: 0.7471 - acc: 0.8785 - val_loss: 0.8139 - val_acc: 0.8460\n",
      "Epoch 33/50\n",
      "4000/4000 [==============================] - 0s 53us/step - loss: 0.7243 - acc: 0.8957 - val_loss: 0.8103 - val_acc: 0.8230\n",
      "Epoch 34/50\n",
      "4000/4000 [==============================] - 0s 61us/step - loss: 0.7141 - acc: 0.8765 - val_loss: 0.8035 - val_acc: 0.8410\n",
      "Epoch 35/50\n",
      "4000/4000 [==============================] - 0s 59us/step - loss: 0.7143 - acc: 0.8923 - val_loss: 0.8288 - val_acc: 0.7990\n",
      "Epoch 36/50\n",
      "4000/4000 [==============================] - 0s 60us/step - loss: 0.7279 - acc: 0.8478 - val_loss: 0.8223 - val_acc: 0.8330\n",
      "Epoch 37/50\n",
      "4000/4000 [==============================] - 0s 56us/step - loss: 0.7341 - acc: 0.8745 - val_loss: 0.8545 - val_acc: 0.7660\n",
      "Epoch 38/50\n",
      "4000/4000 [==============================] - 0s 60us/step - loss: 0.7478 - acc: 0.8207 - val_loss: 0.8129 - val_acc: 0.8230\n",
      "Epoch 39/50\n",
      "4000/4000 [==============================] - 0s 57us/step - loss: 0.7264 - acc: 0.8608 - val_loss: 0.8222 - val_acc: 0.7790\n",
      "Epoch 40/50\n",
      "4000/4000 [==============================] - 0s 60us/step - loss: 0.7172 - acc: 0.8288 - val_loss: 0.7583 - val_acc: 0.8400\n",
      "Epoch 41/50\n",
      "4000/4000 [==============================] - 0s 57us/step - loss: 0.6631 - acc: 0.8817 - val_loss: 0.7354 - val_acc: 0.8200\n",
      "Epoch 42/50\n",
      "4000/4000 [==============================] - 0s 59us/step - loss: 0.6284 - acc: 0.8665 - val_loss: 0.7045 - val_acc: 0.8480\n",
      "Epoch 43/50\n",
      "4000/4000 [==============================] - 0s 58us/step - loss: 0.5968 - acc: 0.8960 - val_loss: 0.6788 - val_acc: 0.8370\n",
      "Epoch 44/50\n",
      "4000/4000 [==============================] - 0s 57us/step - loss: 0.5719 - acc: 0.8950 - val_loss: 0.6792 - val_acc: 0.8350\n",
      "Epoch 45/50\n",
      "4000/4000 [==============================] - 0s 58us/step - loss: 0.5587 - acc: 0.9018 - val_loss: 0.6584 - val_acc: 0.8420\n",
      "Epoch 46/50\n",
      "4000/4000 [==============================] - 0s 58us/step - loss: 0.5558 - acc: 0.8967 - val_loss: 0.6970 - val_acc: 0.8130\n",
      "Epoch 47/50\n",
      "4000/4000 [==============================] - 0s 57us/step - loss: 0.5580 - acc: 0.8827 - val_loss: 0.6776 - val_acc: 0.8230\n",
      "Epoch 48/50\n",
      "4000/4000 [==============================] - 0s 54us/step - loss: 0.5790 - acc: 0.8725 - val_loss: 0.7422 - val_acc: 0.7730\n",
      "Epoch 49/50\n",
      "4000/4000 [==============================] - 0s 52us/step - loss: 0.5905 - acc: 0.8493 - val_loss: 0.6911 - val_acc: 0.8130\n",
      "Epoch 50/50\n",
      "4000/4000 [==============================] - 0s 52us/step - loss: 0.6008 - acc: 0.8510 - val_loss: 0.7281 - val_acc: 0.7770\n"
     ]
    },
    {
     "data": {
      "image/png": "[encoded data removed]",
      "text/plain": [
       "<matplotlib.figure.Figure at 0x7facfc098ef0>"
      ]
     },
     "metadata": {},
     "output_type": "display_data"
    }
   ],
   "source": [
    "plot_history(model(n_hidden=25, batch_size=5000, learning_rate=0.5))\n",
    "plt.show()"
   ]
  },
  {
   "cell_type": "code",
   "execution_count": 26,
   "metadata": {},
   "outputs": [
    {
     "name": "stdout",
     "output_type": "stream",
     "text": [
      "0 - loss: 1.5127835 accuracy: 0.44 cross-validation: 0.532\n",
      "20 - loss: 1.4758474 accuracy: 0.56 cross-validation: 0.482\n",
      "40 - loss: 2.5696824 accuracy: 0.36 cross-validation: 0.44\n",
      "60 - loss: 1.9682355 accuracy: 0.34 cross-validation: 0.418\n",
      "80 - loss: 1.8300679 accuracy: 0.36 cross-validation: 0.444\n",
      "100 - loss: 1.6396523 accuracy: 0.44 cross-validation: 0.412\n",
      "Done!\n",
      "[0.5600000023841858, 0.5399999916553497, 0.4599999785423279, 0.5999999940395355, 0.6399999856948853, 0.5800000131130219, 0.5200000107288361, 0.5999999940395355, 0.5399999916553497, 0.699999988079071, 0.4599999785423279, 0.7199999988079071, 0.5, 0.5, 0.5999999940395355, 0.4599999785423279, 0.4599999785423279, 0.5, 0.4599999785423279, 0.42000001668930054, 0.4399999976158142, 0.760000005364418, 0.760000005364418, 0.5399999916553497, 0.6399999856948853, 0.5, 0.5800000131130219, 0.48000001907348633, 0.5200000107288361, 0.6200000047683716, 0.6599999964237213, 0.5200000107288361, 0.5600000023841858, 0.7400000095367432, 0.6399999856948853, 0.5200000107288361, 0.5800000131130219, 0.5999999940395355, 0.5200000107288361, 0.6599999964237213, 0.6399999856948853, 0.5600000023841858, 0.3999999761581421, 0.4399999976158142, 0.7400000095367432, 0.5200000107288361, 0.5600000023841858, 0.5999999940395355, 0.5, 0.5399999916553497, 0.5200000107288361, 0.5600000023841858, 0.5800000131130219, 0.6399999856948853, 0.760000005364418, 0.5399999916553497, 0.4599999785423279, 0.5600000023841858, 0.5, 0.48000001907348633, 0.6599999964237213, 0.5600000023841858, 0.5, 0.5600000023841858, 0.6599999964237213, 0.48000001907348633, 0.6200000047683716, 0.5999999940395355, 0.5200000107288361, 0.5399999916553497, 0.5800000131130219, 0.6800000071525574, 0.48000001907348633, 0.48000001907348633, 0.48000001907348633, 0.5600000023841858, 0.4399999976158142, 0.5800000131130219, 0.5800000131130219, 0.6800000071525574, 0.6399999856948853, 0.699999988079071, 0.5600000023841858, 0.5800000131130219, 0.5800000131130219, 0.5, 0.6599999964237213, 0.5399999916553497, 0.6399999856948853, 0.3999999761581421, 0.5399999916553497, 0.42000001668930054, 0.7199999988079071, 0.5399999916553497, 0.6599999964237213, 0.6399999856948853, 0.6599999964237213, 0.6599999964237213, 0.5800000131130219, 0.5200000107288361, 0.5600000023841858]\n"
     ]
    }
   ],
   "source": [
    "plot_history(model(n_hidden=100, batch_size=50, learning_rate=0.5))\n",
    "plt.show()"
   ]
  },
  {
   "cell_type": "code",
   "execution_count": 36,
   "metadata": {},
   "outputs": [
    {
     "name": "stdout",
     "output_type": "stream",
     "text": [
      "0 = loss: 1.6024116 accuracy: 0.52\n",
      "10 = loss: 1.3845537 accuracy: 0.64\n",
      "20 = loss: 1.5222553 accuracy: 0.52\n",
      "30 = loss: 1.9743713 accuracy: 0.24\n",
      "40 = loss: 1.8259895 accuracy: 0.38\n",
      "50 = loss: 1.762256 accuracy: 0.34\n",
      "60 = loss: 1.741746 accuracy: 0.28\n",
      "70 = loss: 1.6898047 accuracy: 0.3\n",
      "80 = loss: 1.6397237 accuracy: 0.32\n",
      "90 = loss: 1.6387763 accuracy: 0.32\n"
     ]
    }
   ],
   "source": [
    "plot_history(model(n_hidden=50, batch_size=50, learning_rate=0.5))\n",
    "plt.show()"
   ]
  },
  {
   "cell_type": "code",
   "execution_count": 37,
   "metadata": {},
   "outputs": [
    {
     "name": "stdout",
     "output_type": "stream",
     "text": [
      "0 = loss: 2.155029 accuracy: 0.2\n",
      "10 = loss: 1.5261333 accuracy: 0.52\n",
      "20 = loss: 1.6038461 accuracy: 0.48\n",
      "30 = loss: 1.4505213 accuracy: 0.4\n",
      "40 = loss: 1.4176757 accuracy: 0.42\n",
      "50 = loss: 1.4117393 accuracy: 0.44\n",
      "60 = loss: 1.5802459 accuracy: 0.3\n",
      "70 = loss: 1.5865233 accuracy: 0.3\n",
      "80 = loss: 1.5868245 accuracy: 0.3\n",
      "90 = loss: 1.5852846 accuracy: 0.3\n"
     ]
    }
   ],
   "source": [
    "plot_history(model(n_hidden=25, batch_size=50, learning_rate=0.5))\n",
    "plt.show()"
   ]
  },
  {
   "cell_type": "code",
   "execution_count": 38,
   "metadata": {},
   "outputs": [
    {
     "name": "stdout",
     "output_type": "stream",
     "text": [
      "0 = loss: 1.4941926 accuracy: 0.48\n",
      "10 = loss: 2.9690182 accuracy: 0.16\n",
      "20 = loss: 3.3696604 accuracy: 0.16\n",
      "30 = loss: 3.366854 accuracy: 0.16\n",
      "40 = loss: 3.2170563 accuracy: 0.16\n",
      "50 = loss: 3.3893545 accuracy: 0.16\n",
      "60 = loss: 3.4921253 accuracy: 0.16\n",
      "70 = loss: 3.132991 accuracy: 0.16\n",
      "80 = loss: 3.1392288 accuracy: 0.16\n",
      "90 = loss: 3.253384 accuracy: 0.16\n"
     ]
    }
   ],
   "source": [
    "plot_history(model(n_hidden=100, batch_size=25, learning_rate=0.5))\n",
    "plt.show()"
   ]
  },
  {
   "cell_type": "code",
   "execution_count": 39,
   "metadata": {},
   "outputs": [
    {
     "name": "stdout",
     "output_type": "stream",
     "text": [
      "0 = loss: 1.7245071 accuracy: 0.4\n",
      "10 = loss: 1.91868 accuracy: 0.32\n",
      "20 = loss: 2.0431113 accuracy: 0.28\n",
      "30 = loss: 2.0386534 accuracy: 0.28\n",
      "40 = loss: 2.0355012 accuracy: 0.28\n",
      "50 = loss: 2.0327957 accuracy: 0.28\n",
      "60 = loss: 2.03026 accuracy: 0.28\n",
      "70 = loss: 2.0278993 accuracy: 0.28\n",
      "80 = loss: 2.0256722 accuracy: 0.28\n",
      "90 = loss: 1.9322946 accuracy: 0.32\n"
     ]
    }
   ],
   "source": [
    "plot_history(model(n_hidden=50, batch_size=25, learning_rate=0.5))\n",
    "plt.show()"
   ]
  },
  {
   "cell_type": "code",
   "execution_count": 40,
   "metadata": {},
   "outputs": [
    {
     "name": "stdout",
     "output_type": "stream",
     "text": [
      "0 = loss: 1.9693809 accuracy: 0.2\n",
      "10 = loss: 2.035692 accuracy: 0.28\n",
      "20 = loss: 2.072323 accuracy: 0.28\n",
      "30 = loss: 2.0727522 accuracy: 0.28\n",
      "40 = loss: 2.0731254 accuracy: 0.28\n",
      "50 = loss: 2.0733607 accuracy: 0.28\n",
      "60 = loss: 2.073493 accuracy: 0.28\n",
      "70 = loss: 2.0787556 accuracy: 0.28\n",
      "80 = loss: 2.0787308 accuracy: 0.28\n",
      "90 = loss: 2.0787141 accuracy: 0.28\n"
     ]
    }
   ],
   "source": [
    "plot_history(model(n_hidden=25, batch_size=25, learning_rate=0.5))\n",
    "plt.show()"
   ]
  },
  {
   "cell_type": "code",
   "execution_count": 41,
   "metadata": {},
   "outputs": [
    {
     "name": "stdout",
     "output_type": "stream",
     "text": [
      "0 = loss: 21.763538 accuracy: 0.0\n",
      "10 = loss: 28.63059 accuracy: 0.0\n",
      "20 = loss: 28.107618 accuracy: 0.0\n",
      "30 = loss: 28.016129 accuracy: 0.0\n",
      "40 = loss: 37.45553 accuracy: 0.0\n",
      "50 = loss: 11.9814005 accuracy: 0.0\n",
      "60 = loss: 10.101574 accuracy: 0.0\n",
      "70 = loss: 23.418238 accuracy: 0.0\n",
      "80 = loss: 31.497787 accuracy: 0.0\n",
      "90 = loss: 21.041428 accuracy: 0.0\n"
     ]
    }
   ],
   "source": [
    "plot_history(model(n_hidden=100, batch_size=1, learning_rate=0.5))\n",
    "plt.show()"
   ]
  },
  {
   "cell_type": "code",
   "execution_count": 42,
   "metadata": {},
   "outputs": [
    {
     "name": "stdout",
     "output_type": "stream",
     "text": [
      "0 = loss: 10.28965 accuracy: 0.0\n",
      "10 = loss: 9.480356 accuracy: 0.0\n",
      "20 = loss: 9.480136 accuracy: 0.0\n",
      "30 = loss: 9.47994 accuracy: 0.0\n",
      "40 = loss: 9.479799 accuracy: 0.0\n",
      "50 = loss: 9.4797 accuracy: 0.0\n",
      "60 = loss: 9.479632 accuracy: 0.0\n",
      "70 = loss: 9.479577 accuracy: 0.0\n",
      "80 = loss: 9.479534 accuracy: 0.0\n",
      "90 = loss: 9.479502 accuracy: 0.0\n"
     ]
    }
   ],
   "source": [
    "plot_history(model(n_hidden=50, batch_size=1, learning_rate=0.5))\n",
    "plt.show()"
   ]
  },
  {
   "cell_type": "code",
   "execution_count": 43,
   "metadata": {},
   "outputs": [
    {
     "name": "stdout",
     "output_type": "stream",
     "text": [
      "0 = loss: 5.5774627 accuracy: 0.0\n",
      "10 = loss: 5.577077 accuracy: 0.0\n",
      "20 = loss: 5.5770764 accuracy: 0.0\n",
      "30 = loss: 5.5770764 accuracy: 0.0\n",
      "40 = loss: 5.5770774 accuracy: 0.0\n",
      "50 = loss: 5.577077 accuracy: 0.0\n",
      "60 = loss: 5.577076 accuracy: 0.0\n",
      "70 = loss: 5.577078 accuracy: 0.0\n",
      "80 = loss: 5.5770764 accuracy: 0.0\n",
      "90 = loss: 5.577077 accuracy: 0.0\n"
     ]
    }
   ],
   "source": [
    "plot_history(model(n_hidden=25, batch_size=1, learning_rate=0.5))\n",
    "plt.show()"
   ]
  }
 ],
 "metadata": {
  "kernelspec": {
   "display_name": "Python 3",
   "language": "python",
   "name": "python3"
  },
  "language_info": {
   "codemirror_mode": {
    "name": "ipython",
    "version": 3
   },
   "file_extension": ".py",
   "mimetype": "text/x-python",
   "name": "python",
   "nbconvert_exporter": "python",
   "pygments_lexer": "ipython3",
   "version": "3.6.1"
  }
 },
 "nbformat": 4,
 "nbformat_minor": 2
}
