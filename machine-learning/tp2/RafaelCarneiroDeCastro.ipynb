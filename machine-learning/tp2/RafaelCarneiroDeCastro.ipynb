{
 "cells": [
  {
   "cell_type": "markdown",
   "metadata": {},
   "source": [
    "# Trabalho 2 de Aprendizado de Máquina: Algoritmo de Boosting\n",
    "\n",
    "\n",
    "\n",
    "\n",
    "**Aluno:** Rafael Carneiro de Castro     \n",
    "**Matrícula:** 2013030210     \n",
    "**Curso:** Engenharia de Sistemas\n",
    "\n",
    "**Professor:** Adriano Alonso Veloso            \n",
    "**Data:** 02/07/2018"
   ]
  },
  {
   "cell_type": "markdown",
   "metadata": {},
   "source": [
    "## Introdução:\n",
    "Este trabalho consiste da implementação do algoritmo de Boosting. Boosting é o processo de reduzir o viés de um grande conjunto de modelos simples. Estes modelos são chamados de modelos fracos e possuem pouca correlação com a classificação correta. No processo de Boosting, os modelos fracos formam um modelo mais forte de forma iterativa. Os modelos fracos são escolhidos iterativamente, de forma que cada modelo é escolhido levando-se em conta viéses independentes, ou seja, cada modelo componente realiza erros diferentes de outros modelos componentes.\n",
    "\n",
    "Com este trabalho espera-se ganhar experiência com o processo de Boosting. O algoritmo a ser implementado deve levar em consideração o visto em sala de aula, e assumir um problema de classificação binária com atributos categóricos. O data set utilizado será o do tic-tac-toe (jogo da velha), contido no link disponibilizado nas especificações. A avaliação seguirá a metodologia da validação cruzada com 5 partições. A medida de eficácia a ser considerada é a taxa de erro simples. A linguagem de programação escolhida para tanto é o Python, por conta da facilidade de operação e da possibilidade de entregar um Jupyter Notebook devidamente documentado."
   ]
  },
  {
   "cell_type": "markdown",
   "metadata": {},
   "source": [
    "## O Código:\n",
    "A basde de dados utilizada foi retirada do link disponibilizado e extraída para um arquivo no formato CSV, de nome *tic-tac-toe.csv*. Cada amostra contém 9 características, cujos valores podem ser 'x', 'o' ou 'b', representando cada casa do tabuleiro do jogo da velha. Se a característica 1 possui valor 'x', por exemplo, isso quer dizer que tal posição do tabuleiro foi marcada com um 'x'. O mesmo acontece para o 'o'. O 'b' sinaliza uma casa em branco. Todas as amostras assumem que o jogador que marca com 'x' começou jogando. Os valores para a classe correspondem a 'positive', quando o jogador que marca com 'x' ganhou aquele jogo, ou 'negative' caso contrário.\n",
    "\n",
    "O primeiro procedimento feito foi a leitura do arquivo e a separação dos dados das amostras e das suas classes. Em seguida os campos com valor 'x' foram substituídos por 1, valores 'o' foram substituídos por -1 e valores 'b' foram substituídos por 0. Nas classes, o valor 'positive' foi trocado para 1, e o valor 'negative' foi trocado para -1. Estas mudanças foram feitas com o intuito de melhorar a operabilidade do código. Estes procedimentos podem ser vistos a seguir.\n",
    "\n",
    "**Vale salientar que para o correto funcionamento deste código é preciso que o arquivo *tic-tac-toe.csv* esteja na mesma pasta do Jupyter Notebook.**"
   ]
  },
  {
   "cell_type": "code",
   "execution_count": 12,
   "metadata": {
    "collapsed": true
   },
   "outputs": [],
   "source": [
    "import pandas as pd\n",
    "\n",
    "df = pd.read_csv('tic-tac-toe.csv', header=None)\n",
    "X = df.iloc[:,:-1].values\n",
    "y = df.iloc[:,-1].values\n",
    "\n",
    "X[X == 'x'] = 1\n",
    "X[X == 'o'] = -1\n",
    "X[X == 'b'] = 0\n",
    "y[y == 'positive'] = 1\n",
    "y[y == 'negative'] = -1"
   ]
  },
  {
   "cell_type": "markdown",
   "metadata": {},
   "source": [
    "Em seguida foram definidos os modelos fracos que serão utilizados. Neste trabalho os modelos serão os chamados *stumps*, árvores de decisão de altura um. Serão usados os *stumps* que classificam como 'positive' (1, 'x' ganhou) no caso em que uma casa específica do tabuleiro seja marcada como 'x'. Também serão usados os *stumps* que classificam como 'positive' (1, 'x' ganhou) no caso em que uma casa específica do tabuleiro seja marcada como 'o'. Por último, serão utilizados os *stumps* que classificam sempre como 'positive' (1, 'x' ganhou), e sempre como 'negative' (-1, 'x' não ganhou). Estes *stumps* são declarados a seguir:"
   ]
  },
  {
   "cell_type": "code",
   "execution_count": 13,
   "metadata": {
    "collapsed": true
   },
   "outputs": [],
   "source": [
    "POSSIBLE_STUMPS = []\n",
    "POSSIBLE_STUMPS.append(lambda x: 1 if x[0] == 1 else -1)\n",
    "POSSIBLE_STUMPS.append(lambda x: 1 if x[1] == 1 else -1)\n",
    "POSSIBLE_STUMPS.append(lambda x: 1 if x[2] == 1 else -1)\n",
    "POSSIBLE_STUMPS.append(lambda x: 1 if x[3] == 1 else -1)\n",
    "POSSIBLE_STUMPS.append(lambda x: 1 if x[4] == 1 else -1)\n",
    "POSSIBLE_STUMPS.append(lambda x: 1 if x[5] == 1 else -1)\n",
    "POSSIBLE_STUMPS.append(lambda x: 1 if x[6] == 1 else -1)\n",
    "POSSIBLE_STUMPS.append(lambda x: 1 if x[7] == 1 else -1)\n",
    "POSSIBLE_STUMPS.append(lambda x: 1 if x[8] == 1 else -1)\n",
    "POSSIBLE_STUMPS.append(lambda x: 1 if x[0] == -1 else -1)\n",
    "POSSIBLE_STUMPS.append(lambda x: 1 if x[1] == -1 else -1)\n",
    "POSSIBLE_STUMPS.append(lambda x: 1 if x[2] == -1 else -1)\n",
    "POSSIBLE_STUMPS.append(lambda x: 1 if x[3] == -1 else -1)\n",
    "POSSIBLE_STUMPS.append(lambda x: 1 if x[4] == -1 else -1)\n",
    "POSSIBLE_STUMPS.append(lambda x: 1 if x[5] == -1 else -1)\n",
    "POSSIBLE_STUMPS.append(lambda x: 1 if x[6] == -1 else -1)\n",
    "POSSIBLE_STUMPS.append(lambda x: 1 if x[7] == -1 else -1)\n",
    "POSSIBLE_STUMPS.append(lambda x: 1 if x[8] == -1 else -1)\n",
    "POSSIBLE_STUMPS.append(lambda _: 1)\n",
    "POSSIBLE_STUMPS.append(lambda _: -1)"
   ]
  },
  {
   "cell_type": "markdown",
   "metadata": {},
   "source": [
    "A função escrita a seguir faz a separação dos dados nos *folds* para a validação cruzada. Os dados são separados em N partes. Uma destas partes é utilizada para teste, e as outras N-1 são usadas para treino. O modelo é executado N vezes, para que cada parte seja usada como validação. E erro final pode ser considerado a média dos erros nas N vezes que o modelo rodou. Vale ressaltar que esta função faz a separação do dado para a validação cruzada de forma estratificada, para que todos os *folds* tenham a mesma razão de amostrar em cada classe."
   ]
  },
  {
   "cell_type": "code",
   "execution_count": 14,
   "metadata": {
    "collapsed": true
   },
   "outputs": [],
   "source": [
    "import numpy as np\n",
    "\n",
    "def cross_validation_split(n_folds, X, y):\n",
    "    split = []\n",
    "    data = np.column_stack((X, y))\n",
    "    np.random.shuffle(data)\n",
    "\n",
    "    class1 = data[data[:, 9] == 1]\n",
    "    class2 = data[data[:, 9] != 1]\n",
    "    \n",
    "    folds = []\n",
    "    first = 0\n",
    "    last = int(len(class1)/n_folds)\n",
    "    while last < len(class1):\n",
    "        new_fold = class1[first:last]\n",
    "        folds.append(new_fold)\n",
    "        \n",
    "        first = last\n",
    "        last += int(len(class1)/n_folds)\n",
    "    folds[-1] = np.vstack((folds[-1], class1[first:]))\n",
    "    \n",
    "    i = 0\n",
    "    first = 0\n",
    "    last = int(len(class2)/n_folds) \n",
    "    while last < len(class2):\n",
    "        complement = class2[first:last]\n",
    "        folds[i] = np.vstack((folds[i], complement))\n",
    "        \n",
    "        i += 1\n",
    "        first = last\n",
    "        last += int(len(class2)/n_folds)\n",
    "    folds[0] = np.vstack((folds[0], class2[first:]))\n",
    "        \n",
    "    for i in range(len(folds)):\n",
    "        copy = folds.copy()\n",
    "        test = copy[i]\n",
    "        copy.pop(i)\n",
    "        train = np.vstack(copy)\n",
    "        split.append((train, test))\n",
    "        \n",
    "    return split"
   ]
  },
  {
   "cell_type": "markdown",
   "metadata": {},
   "source": [
    "Em seguida é implementada a classe que conterá o modelo do Boost. O construtor desta classe recebe o número de unidades de estimação, neste caso, o número de *stumps*, e também a quantidade de iterações que serão executadas. A função *fit* faz o treino do modelo, conforme o algoritmo de boost visto em sala, a partir de amostras e *targets* passados como parâmetro. Cada amostra recebe o mesmo peso em primeiro momento, e as iterações começam. O *stump* com menor *epsilon* é selecionado e o valor de *alpha* é calculado. O peso das amostras é então corrigido, e é salva a precisão do modelo registrada para aquela iteração. A função *predict* pode ser usada ao fim do treino (*fit*) do modelo, passando as amostras de teste como parâmetro. A predição é feita com os *alphas* calculados no treino do modelo, utilizando um esquema de votação para a classificação de cada amostra. Como as classes são 1 ou -1, a função *sign* pode ser usada para isso. O resultado dela pode ser usado para se avaliar a precisão do teste."
   ]
  },
  {
   "cell_type": "code",
   "execution_count": 33,
   "metadata": {
    "collapsed": true
   },
   "outputs": [],
   "source": [
    "import numpy as np\n",
    "\n",
    "class Boost:\n",
    "    def __init__(self, n_estimators, n_iterations):\n",
    "        self.n_iterations = n_iterations\n",
    "        self.ALPHA = n_estimators * [0]\n",
    "        self.STUMPS = POSSIBLE_STUMPS[0:n_estimators]\n",
    "        \n",
    "    def fit(self, X, y):\n",
    "        e = 0\n",
    "        accuracy = [0]\n",
    "        better_alphas = self.ALPHA.copy()\n",
    "        weights = len(X) * [1/len(X)]\n",
    "        for _ in range(self.n_iterations):\n",
    "            errors = []\n",
    "            for stump in self.STUMPS:\n",
    "                error = sum([(y[i] != stump(X[i])) * weights[i] for i in range(len(X))])\n",
    "                errors.append(error)\n",
    "            e = min(errors)\n",
    "            h = self.STUMPS[errors.index(e)]\n",
    "            alpha_t = 0.5 * np.log((1-e)/e)\n",
    "            \n",
    "            w = len(X) * [0]\n",
    "            for i in range(len(X)):\n",
    "                w[i] = weights[i] * np.exp(-alpha_t * h(X[i]) * y[i])\n",
    "            weights = w / sum(w)\n",
    "            \n",
    "            old_alpha = self.ALPHA[errors.index(e)]\n",
    "            self.ALPHA[errors.index(e)] = alpha_t\n",
    "            pred = self.predict(X)\n",
    "            right = [pred[i] == y[i] for i in range(len(y))]\n",
    "            new_acuracy = sum(right) / len(y)\n",
    "            if (new_acuracy > max(accuracy)):\n",
    "                accuracy.append(new_acuracy)\n",
    "                better_alphas = self.ALPHA.copy()\n",
    "            else:\n",
    "                accuracy.append(max(accuracy))\n",
    "        \n",
    "        self.ALPHA = better_alphas\n",
    "        print('Done')\n",
    "    \n",
    "        return { 'e': e, 'accuracy': accuracy }\n",
    "    \n",
    "    def predict(self, X):\n",
    "        y = []\n",
    "        for x in X:\n",
    "            x_class = np.sign(sum([self.ALPHA[i] * self.STUMPS[i](x) for i in range(len(self.STUMPS))]))\n",
    "            y.append(x_class)\n",
    "        \n",
    "        return y"
   ]
  },
  {
   "cell_type": "markdown",
   "metadata": {},
   "source": [
    "## Experimentos:\n",
    "O código a seguir é usado para treinar o modelo com 20 *stumps* e 15 iterações, para se fazer um teste de precisão com estes parâmetros. A validação cruzada também é feita, com 5 *folds*, e a precisão das iterações é salva para se plotar um gráfico da evolução da precisão nas iterações. A precisão de teste de cada *fold* também é guardada."
   ]
  },
  {
   "cell_type": "code",
   "execution_count": 21,
   "metadata": {
    "scrolled": true
   },
   "outputs": [
    {
     "name": "stdout",
     "output_type": "stream",
     "text": [
      "Done\n",
      "Done\n",
      "Done\n",
      "Done\n",
      "Done\n"
     ]
    }
   ],
   "source": [
    "import matplotlib.pyplot as plt\n",
    "import seaborn as sns\n",
    "%matplotlib inline\n",
    "\n",
    "n_folds = 5\n",
    "n_iterations = 15\n",
    "\n",
    "boost = Boost(20, n_iterations)\n",
    "accuracies = n_iterations*[0]\n",
    "test_acc = []\n",
    "for train, test in cross_validation_split(n_folds, X, y):\n",
    "    X_train = train[:, :9]\n",
    "    y_train = train[:, -1]\n",
    "    \n",
    "    fit = boost.fit(X_train, y_train)\n",
    "    accuracies = list(map(sum, zip(accuracies, fit['accuracy'])))\n",
    "    \n",
    "    X_test = test[:, :9]\n",
    "    y_test = test[:, -1]\n",
    "    pred = boost.predict(X_test)\n",
    "    right = [pred[i] == y_test[i] for i in range(len(y_test))]\n",
    "    test_acc.append(sum(right) / len(y_test))\n",
    "    \n",
    "accuracies = [x / n_folds for x in accuracies]"
   ]
  },
  {
   "cell_type": "markdown",
   "metadata": {},
   "source": [
    "O código a seguir mostra a evolução média das precisões dos modelos treinados em um gráfico. Após 15 iterações, a precisão de treino média final ficou na casa dos 78%. O código também mostra a precisão média final dos testes, que ficou na faixa dos 76%, bem próximo da precisão de treino encontrada."
   ]
  },
  {
   "cell_type": "code",
   "execution_count": 23,
   "metadata": {
    "scrolled": false
   },
   "outputs": [
    {
     "name": "stdout",
     "output_type": "stream",
     "text": [
      "0.764095180126414\n"
     ]
    },
    {
     "data": {
      "text/plain": [
       "<matplotlib.figure.Figure at 0x24b59d0d6d8>"
      ]
     },
     "metadata": {},
     "output_type": "display_data"
    },
    {
     "data": {
      "image/png": "[encoded data removed]",
      "text/plain": [
       "<matplotlib.figure.Figure at 0x24b5adb2780>"
      ]
     },
     "metadata": {},
     "output_type": "display_data"
    }
   ],
   "source": [
    "dfPlot = pd.DataFrame(accuracies)\n",
    "plt.figure()\n",
    "dfPlot.plot.line()\n",
    "\n",
    "print(np.mean(test_acc))"
   ]
  },
  {
   "cell_type": "markdown",
   "metadata": {},
   "source": [
    "A seguir o mesmo procedimento é feito, mas agora aumentando a quantidade de iterações para 30. A precisão final para os treinos ficou na casa dos 78% novamente, e a precisão dos testes por volta de 77%. Neste caso o tempo de execução foi consideravelmente maior e a precisão não melhorou muito."
   ]
  },
  {
   "cell_type": "code",
   "execution_count": 24,
   "metadata": {},
   "outputs": [
    {
     "name": "stdout",
     "output_type": "stream",
     "text": [
      "Done\n",
      "Done\n",
      "Done\n",
      "Done\n",
      "Done\n"
     ]
    }
   ],
   "source": [
    "n_iterations = 30\n",
    "\n",
    "boost = Boost(20, n_iterations)\n",
    "accuracies = n_iterations*[0]\n",
    "test_acc = []\n",
    "for train, test in cross_validation_split(n_folds, X, y):\n",
    "    X_train = train[:, :9]\n",
    "    y_train = train[:, -1]\n",
    "    \n",
    "    fit = boost.fit(X_train, y_train)\n",
    "    accuracies = list(map(sum, zip(accuracies, fit['accuracy'])))\n",
    "    \n",
    "    X_test = test[:, :9]\n",
    "    y_test = test[:, -1]\n",
    "    pred = boost.predict(X_test)\n",
    "    right = [pred[i] == y_test[i] for i in range(len(y_test))]\n",
    "    test_acc.append(sum(right) / len(y_test))\n",
    "    \n",
    "accuracies = [x / n_folds for x in accuracies]"
   ]
  },
  {
   "cell_type": "code",
   "execution_count": 28,
   "metadata": {
    "scrolled": false
   },
   "outputs": [
    {
     "name": "stdout",
     "output_type": "stream",
     "text": [
      "0.7755973130238993\n"
     ]
    },
    {
     "data": {
      "text/plain": [
       "<matplotlib.figure.Figure at 0x24b5adff860>"
      ]
     },
     "metadata": {},
     "output_type": "display_data"
    },
    {
     "data": {
      "image/png": "[encoded data removed]",
      "text/plain": [
       "<matplotlib.figure.Figure at 0x24b5ae336a0>"
      ]
     },
     "metadata": {},
     "output_type": "display_data"
    }
   ],
   "source": [
    "dfPlot = pd.DataFrame(accuracies)\n",
    "plt.figure()\n",
    "dfPlot.plot.line()\n",
    "\n",
    "print(np.mean(test_acc))"
   ]
  },
  {
   "cell_type": "markdown",
   "metadata": {},
   "source": [
    "A seguir também foi feito um teste com 10 iterações. Tanto a precisão de treino quanto de teste ficou na casa de 75%. Como o desempenho com 15 iterações é um pouco melhor e o tempo de execução não é tão maior, daqui para frente os testes serão feitos com 15 iterações."
   ]
  },
  {
   "cell_type": "code",
   "execution_count": 29,
   "metadata": {},
   "outputs": [
    {
     "name": "stdout",
     "output_type": "stream",
     "text": [
      "Done\n",
      "Done\n",
      "Done\n",
      "Done\n",
      "Done\n"
     ]
    }
   ],
   "source": [
    "n_iterations = 10\n",
    "\n",
    "boost = Boost(20, n_iterations)\n",
    "accuracies = n_iterations*[0]\n",
    "test_acc = []\n",
    "for train, test in cross_validation_split(n_folds, X, y):\n",
    "    X_train = train[:, :9]\n",
    "    y_train = train[:, -1]\n",
    "    \n",
    "    fit = boost.fit(X_train, y_train)\n",
    "    accuracies = list(map(sum, zip(accuracies, fit['accuracy'])))\n",
    "    \n",
    "    X_test = test[:, :9]\n",
    "    y_test = test[:, -1]\n",
    "    pred = boost.predict(X_test)\n",
    "    right = [pred[i] == y_test[i] for i in range(len(y_test))]\n",
    "    test_acc.append(sum(right) / len(y_test))\n",
    "    \n",
    "accuracies = [x / n_folds for x in accuracies]"
   ]
  },
  {
   "cell_type": "code",
   "execution_count": 30,
   "metadata": {
    "scrolled": false
   },
   "outputs": [
    {
     "name": "stdout",
     "output_type": "stream",
     "text": [
      "0.7506617407698777\n"
     ]
    },
    {
     "data": {
      "text/plain": [
       "<matplotlib.figure.Figure at 0x24b5afc0940>"
      ]
     },
     "metadata": {},
     "output_type": "display_data"
    },
    {
     "data": {
      "image/png": "[encoded data removed]",
      "text/plain": [
       "<matplotlib.figure.Figure at 0x24b5aff5c50>"
      ]
     },
     "metadata": {},
     "output_type": "display_data"
    }
   ],
   "source": [
    "dfPlot = pd.DataFrame(accuracies)\n",
    "plt.figure()\n",
    "dfPlot.plot.line()\n",
    "\n",
    "print(np.mean(test_acc))"
   ]
  },
  {
   "cell_type": "markdown",
   "metadata": {},
   "source": [
    "Finalizando os experimentos, o código a seguir é usado para treinar modelos com 15 iterações, variando a quantidade de *stumps* em 5, 9, 13, 17 e 20. A precisão de treino e de teste em cada um dos modelos é guardada para se tomar as conclusões finais. Também os valores de *epsilon* são salvos para avaliar sua tendência final."
   ]
  },
  {
   "cell_type": "code",
   "execution_count": 82,
   "metadata": {
    "scrolled": true
   },
   "outputs": [
    {
     "name": "stdout",
     "output_type": "stream",
     "text": [
      "Done\n",
      "Done\n",
      "Done\n",
      "Done\n",
      "Done\n",
      "Done\n",
      "Done\n",
      "Done\n",
      "Done\n",
      "Done\n",
      "Done\n",
      "Done\n",
      "Done\n",
      "Done\n",
      "Done\n",
      "Done\n",
      "Done\n",
      "Done\n",
      "Done\n",
      "Done\n",
      "Done\n",
      "Done\n",
      "Done\n",
      "Done\n",
      "Done\n"
     ]
    }
   ],
   "source": [
    "n_folds = 5\n",
    "n_iterations = 15\n",
    "\n",
    "es = []\n",
    "test_accuracies = []\n",
    "train_accuracies = []\n",
    "for n_estimators in [5, 9, 13, 17, 20]:\n",
    "    boost = Boost(n_estimators, n_iterations)\n",
    "    accuracies = n_iterations*[0]\n",
    "    test_acc = []\n",
    "    cv_es = []\n",
    "    for train, test in cross_validation_split(n_folds, X, y):\n",
    "        X_train = train[:, :9]\n",
    "        y_train = train[:, -1]\n",
    "\n",
    "        fit = boost.fit(X_train, y_train)\n",
    "        accuracies = list(map(sum, zip(accuracies, fit['accuracy'])))\n",
    "\n",
    "        X_test = test[:, :9]\n",
    "        y_test = test[:, -1]\n",
    "        pred = boost.predict(X_test)\n",
    "        right = [pred[i] == y_test[i] for i in range(len(y_test))]\n",
    "        test_acc.append(sum(right) / len(y_test))\n",
    "        cv_es.append(fit['e'])\n",
    "\n",
    "    accuracies = [x / n_folds for x in accuracies]\n",
    "    es.append(np.mean(cv_es))\n",
    "    train_accuracies.append(max(accuracies))\n",
    "    test_accuracies.append(np.mean(test_acc))"
   ]
  },
  {
   "cell_type": "markdown",
   "metadata": {},
   "source": [
    "O código a seguir foi utlizado para se plotar o erro de treino e de teste utilizando-se 5, 9, 13, 17 e 20 *stumps*. Também é possível ver o valor de *epsilon* dos modelos treinados. Como se pode observar, o erro dos treinos e testes vai caindo à medida que se adiciona *stumps*, já que com maior quantidade de modelos fracos \"votando\" nas classificações corretas, a precisão aumenta. Também é perceptível a tendência do valor de *epsilon* subir até a proximidade de 0,5. O valor de *epsilon* é o peso dos erros do melhor *stump* (*h*) escolhido, e este valor tende a subir porque à medida que as iterações passam, vão sobrando modelos cada vez piores, conforme visto em sala de aula."
   ]
  },
  {
   "cell_type": "code",
   "execution_count": 158,
   "metadata": {
    "scrolled": true
   },
   "outputs": [
    {
     "data": {
      "image/png": "[encoded data removed]",
      "text/plain": [
       "<matplotlib.figure.Figure at 0x24b5e1c9b70>"
      ]
     },
     "metadata": {},
     "output_type": "display_data"
    }
   ],
   "source": [
    "train_err = [1 - x for x in train_accuracies]\n",
    "train_err.insert(0, 0.5)\n",
    "test_err = [1 - x for x in test_accuracies]\n",
    "test_err.insert(0, 0.5)\n",
    "print_es = es.copy()\n",
    "print_es.insert(0, 0)\n",
    "\n",
    "plt.figure(figsize=(8, 5))\n",
    "plt.plot(np.arange(6), train_err, label='Erro de treino')\n",
    "plt.plot(np.arange(6), test_err, label='Erro de teste')\n",
    "plt.plot(np.arange(6), print_es, label='Epsilon')\n",
    "plt.xlabel('Valor')\n",
    "plt.ylabel('Stumps')\n",
    "plt.legend(loc='best')\n",
    "plt.show()"
   ]
  },
  {
   "cell_type": "markdown",
   "metadata": {},
   "source": [
    "## Conclusão:\n",
    "Conclui-se que, pelo desenvolvimento deste trabalho, maior experiência com o processo de *Booting* foi atingida. O algoritmo implementado colocou em prática e reforçou com êxito os conceitos vistos em sala de aula. No final, um modelo com precisão interessante foi alcançado, utilizando 15 iterações e 20 *stumps*. A precisão do teste deste modelo girou em torno dos 76% para a base do *tic-tac-toe* utilizada. Com uma base maior, talvez o modelo chegasse a uma precisão ainda melhor, com um treino mais completo. Também foram colocados em prática os conceitos de *cross validation* (validação cruzada), incluindo seu formato estratificado. Melhorias podem ser feitas no intuito de se criar um código mais genêrico, não tão específico para a base do *tic-tac-toe* utilizada. Também pode-se acrescentar melhorias com o intuito de se alcançar melhor desempenho e a velocidade de processamento. Conclui-se então que os objetivos foram alcançados com êxito."
   ]
  }
 ],
 "metadata": {
  "kernelspec": {
   "display_name": "Python 3",
   "language": "python",
   "name": "python3"
  },
  "language_info": {
   "codemirror_mode": {
    "name": "ipython",
    "version": 3
   },
   "file_extension": ".py",
   "mimetype": "text/x-python",
   "name": "python",
   "nbconvert_exporter": "python",
   "pygments_lexer": "ipython3",
   "version": "3.6.1"
  }
 },
 "nbformat": 4,
 "nbformat_minor": 2
}
